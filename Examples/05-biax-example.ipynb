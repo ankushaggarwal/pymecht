{
 "cells": [
  {
   "cell_type": "markdown",
   "id": "29eb351e-1bf3-48c0-a3ff-5d58de4db493",
   "metadata": {},
   "source": [
    "# Using PlanarBiaxialExtension"
   ]
  },
  {
   "cell_type": "code",
   "execution_count": 1,
   "id": "923a4b52-38d7-44fd-8ed5-9ba6c71d0dc3",
   "metadata": {},
   "outputs": [],
   "source": [
    "import pymecht as pmt\n",
    "from matplotlib import pyplot as plt\n",
    "import numpy as np"
   ]
  },
  {
   "cell_type": "markdown",
   "id": "f203055c-f88a-42d6-a64d-83bfd27f3585",
   "metadata": {},
   "source": [
    "## Displacement controlled"
   ]
  },
  {
   "cell_type": "markdown",
   "id": "6a53dace-9ad5-4141-9c18-d9ad3df7b0e7",
   "metadata": {},
   "source": [
    "We start by using the `PlanarBiaxialExtension` in a simple `disp_controlled` manner. We start by creating a material and using it to create a planar biaxial experimental sample. Then, we set it to have two fibers at $\\pm 10$ degrees. We also set the parameters, and print the sample and its parameter values. "
   ]
  },
  {
   "cell_type": "code",
   "execution_count": 3,
   "id": "06fd9678-dbca-4eae-81dd-180209f36aeb",
   "metadata": {},
   "outputs": [
    {
     "name": "stdout",
     "output_type": "stream",
     "text": [
      "Fiber directions set to  10  degrees ( 0.17453292519943295  radians)\n",
      "An object of type PlanarBiaxialExtensionwith stretch as input, cauchy as output, and the following material\n",
      "Material model with 2 components:\n",
      "Component1: GOH with fiber direction(s):[array([0.98480775, 0.17364818, 0.        ]), array([ 0.98480775, -0.17364818,  0.        ])]\n",
      "Component2: NH with fiber direction(s):[array([0.98480775, 0.17364818, 0.        ]), array([ 0.98480775, -0.17364818,  0.        ])]\n",
      " ------------------------------------------------------------------\n",
      "Keys              Value       Fixed?      Lower bound Upper bound \n",
      "------------------------------------------------------------------\n",
      "L10               1.00        No          1.00e-04    1.00e+03    \n",
      "L20               1.00        No          1.00e-04    1.00e+03    \n",
      "thick             1.00        No          1.00e-04    1.00e+03    \n",
      "k1_0              20.00       No          0.10        30.00       \n",
      "k2_0              20.00       No          0.10        30.00       \n",
      "k3_0              0.10        No          0.00        0.33        \n",
      "mu_1              1.00        No          1.00e-04    1.00e+02    \n",
      "------------------------------------------------------------------\n",
      "\n"
     ]
    }
   ],
   "source": [
    "mat = pmt.MatModel('goh','nh')\n",
    "\n",
    "sample = pmt.PlanarBiaxialExtension(mat)\n",
    "pmt.specify_two_fibers(sample,10)\n",
    "params = sample.parameters\n",
    "params.set('k1_0',20)\n",
    "params.set('k2_0',20)\n",
    "print(sample, params)"
   ]
  },
  {
   "cell_type": "markdown",
   "id": "7e9420a9-7252-448c-b262-0238201a68bf",
   "metadata": {},
   "source": [
    "By default, the displacement measure (input) is stretch and the force measure (output) is Cauchy stress. Note that for planar biaxial setup, there are two inputs and two outputs (e.g., stretches and stresses along the two directions). Thus, when we create the displacement to be applied, we create a 2D array, where each row has two elements: stretch along the x-axis and stretch along the y-axis. We set them to increase linearly between unit stretch and a maximum stretch of 1.1 along the x-axis and 1.3 along the y-axis. \n",
    "\n",
    "Then, we perform then `disp_controlled` simulation at these stretches. It results in a stress array, which is also 2D, with each row having the stress along x-axis and that along the y-axis. Lastly, we plot the resulting stress-stretch curves along the two directions."
   ]
  },
  {
   "cell_type": "code",
   "execution_count": 4,
   "id": "53a11b9c-1edf-4fc3-bd90-79e0b32860af",
   "metadata": {},
   "outputs": [
    {
     "name": "stdout",
     "output_type": "stream",
     "text": [
      "(10, 2) (10, 2)\n",
      "[1.01111111 1.03333333] [1.08277678 0.20397835]\n"
     ]
    },
    {
     "data": {
      "image/png": "[encoded data removed]",
      "text/plain": [
       "<Figure size 400x300 with 1 Axes>"
      ]
     },
     "metadata": {},
     "output_type": "display_data"
    }
   ],
   "source": [
    "stretch = np.array([np.linspace(1,1.1,10),np.linspace(1,1.3,10)]).T\n",
    "stress = sample.disp_controlled(stretch,params)\n",
    "print(stretch.shape, stress.shape) #the shape of input and output arrays\n",
    "print(stretch[1], stress[1]) #example inputs and outputs\n",
    "\n",
    "fig,ax = plt.subplots(1,1,figsize=(4,3))\n",
    "ax.plot(stretch[:,0],stress[:,0]*100,'-o',label=r'$x$')\n",
    "ax.plot(stretch[:,1],stress[:,1]*100,'-o',label=r'$y$')\n",
    "ax.set_xlabel('Stretch [-]')\n",
    "ax.set_ylabel('Stress [kPa]')\n",
    "plt.legend()\n",
    "plt.show()"
   ]
  },
  {
   "cell_type": "markdown",
   "id": "70484e13-0564-4214-b833-602ae4d5d05f",
   "metadata": {},
   "source": [
    "## Force controlled"
   ]
  },
  {
   "cell_type": "markdown",
   "id": "6b664a6a-c9ca-47ac-bea1-e77ee77dfa87",
   "metadata": {},
   "source": [
    "The inverse of `disp_controlled` is `force_controlled` simulation, wherein we apply a force (or stress) and the result is a stretch (or strain/length etc., depending on the setting when creating a sample). Here, we use the stresses we calculated in the previous step to back calculate the stretch. We check the difference and see that a close-enough solution was found. Note that `force_controlled` uses iterative solver, evaluating the `disp_controlled` simulation multiple times to find the \"displacement\" that would result in the applied force (numerically close-enough). Thus, `force_controlled` is commonly slower than `disp_controlled`."
   ]
  },
  {
   "cell_type": "code",
   "execution_count": 5,
   "id": "38d3680d-37cb-4abc-a073-1606e2acc371",
   "metadata": {},
   "outputs": [
    {
     "name": "stdout",
     "output_type": "stream",
     "text": [
      "8.503677451570787e-12\n"
     ]
    }
   ],
   "source": [
    "stretch_back = sample.force_controlled(stress,params)\n",
    "print(np.linalg.norm(stretch_back-stretch))"
   ]
  },
  {
   "cell_type": "markdown",
   "id": "848a698b-196c-4471-8357-d66870701c9a",
   "metadata": {},
   "source": [
    "## Different `force_measure`s"
   ]
  },
  {
   "cell_type": "markdown",
   "id": "8899af4a-aaf0-48e8-8180-11d32e568bb2",
   "metadata": {},
   "source": [
    "There are different options for the `force_measure` argument, as we can see from the helper function."
   ]
  },
  {
   "cell_type": "code",
   "execution_count": 6,
   "id": "ff6ffd24-d751-4afb-ac9d-fc678a00688e",
   "metadata": {},
   "outputs": [
    {
     "name": "stdout",
     "output_type": "stream",
     "text": [
      "\u001b[1;31mInit signature:\u001b[0m\n",
      "\u001b[0mpmt\u001b[0m\u001b[1;33m.\u001b[0m\u001b[0mPlanarBiaxialExtension\u001b[0m\u001b[1;33m(\u001b[0m\u001b[1;33m\n",
      "\u001b[0m    \u001b[0mmat_model\u001b[0m\u001b[1;33m,\u001b[0m\u001b[1;33m\n",
      "\u001b[0m    \u001b[0mdisp_measure\u001b[0m\u001b[1;33m=\u001b[0m\u001b[1;34m'stretch'\u001b[0m\u001b[1;33m,\u001b[0m\u001b[1;33m\n",
      "\u001b[0m    \u001b[0mforce_measure\u001b[0m\u001b[1;33m=\u001b[0m\u001b[1;34m'cauchy'\u001b[0m\u001b[1;33m,\u001b[0m\u001b[1;33m\n",
      "\u001b[0m\u001b[1;33m)\u001b[0m\u001b[1;33m\u001b[0m\u001b[1;33m\u001b[0m\u001b[0m\n",
      "\u001b[1;31mDocstring:\u001b[0m     \n",
      "For simulating planar biaxial extension of a planar sample\n",
      "\n",
      "+-----------+---------------------------+\n",
      "| Parameter | Description (default)     |\n",
      "+===========+===========================+\n",
      "| L10       | Ref length: 1st axis (1)  |\n",
      "+-----------+---------------------------+\n",
      "| L20       | Ref length: 2nd axis (1)  |\n",
      "+-----------+---------------------------+\n",
      "| thick     | Sample thicknesse (1)     |\n",
      "+-----------+---------------------------+\n",
      "\n",
      "\n",
      "Parameters\n",
      "----------\n",
      "mat_model: MatModel\n",
      "    A material model object of type MatModel\n",
      "\n",
      "disp_measure: str\n",
      "    The measure of displacement with the following options:    \n",
      "    \n",
      "    * 'stretch' : The stretch ratio (default)\n",
      "    * 'strain' : The Green-Lagrange strain\n",
      "    * 'deltal' : The change in length\n",
      "    * 'length' : The length\n",
      "\n",
      "force_measure: str\n",
      "    The measure of force with the following options:\n",
      "    \n",
      "    * 'force' : The force per unit area\n",
      "    * 'tension' : The force per unit thickness\n",
      "    * 'cauchy' : The Cauchy stress (default)\n",
      "    * '1pk' or '1stpk' or 'firstpk' : The first Piola-Kirchhoff stress\n",
      "    * '2pk' or '2ndpk' or 'secondpk' : The second Piola-Kirchhoff stress\n",
      "\u001b[1;31mFile:\u001b[0m           c:\\users\\2712332r\\appdata\\local\\anaconda3\\envs\\pymecht\\lib\\site-packages\\pymecht\\sampleexperiment.py\n",
      "\u001b[1;31mType:\u001b[0m           type\n",
      "\u001b[1;31mSubclasses:\u001b[0m     "
     ]
    }
   ],
   "source": [
    "pmt.PlanarBiaxialExtension?"
   ]
  },
  {
   "cell_type": "code",
   "execution_count": 7,
   "id": "0ae4a49c-6fa3-420b-aae5-043d453d2b86",
   "metadata": {},
   "outputs": [
    {
     "name": "stdout",
     "output_type": "stream",
     "text": [
      "Fiber directions set to  10  degrees ( 0.17453292519943295  radians)\n",
      "[[ 0.          0.        ]\n",
      " [ 1.07087813  0.19739841]\n",
      " [ 2.29707897  0.42600305]\n",
      " [ 3.73982384  0.6939273 ]\n",
      " [ 5.49544981  1.01540952]\n",
      " [ 7.71157638  1.41391158]\n",
      " [10.61447776  1.92716025]\n",
      " [14.55572515  2.61571986]\n",
      " [20.09275611  3.57794081]\n",
      " [28.13077066  4.97660603]]\n",
      "[[  0.           0.        ]\n",
      " [  4.28351252   0.78959362]\n",
      " [  9.18831587   1.70401218]\n",
      " [ 14.95929535   2.7757092 ]\n",
      " [ 21.98179923   4.0616381 ]\n",
      " [ 30.84630553   5.65564632]\n",
      " [ 42.45791106   7.70864098]\n",
      " [ 58.22290059  10.46287943]\n",
      " [ 80.37102445  14.31176324]\n",
      " [112.52308264  19.90642412]]\n"
     ]
    }
   ],
   "source": [
    "#output force\n",
    "sample = pmt.PlanarBiaxialExtension(mat,force_measure='force')\n",
    "pmt.specify_two_fibers(sample,10)\n",
    "print(sample.disp_controlled(stretch,params)) #prints force, which will depend on lengths and thickness\n",
    "params.set('L10',2)\n",
    "params.set('L20',2)\n",
    "params.set('thick',2)\n",
    "print(sample.disp_controlled(stretch,params)) #see the new force, which should be 4 times"
   ]
  },
  {
   "cell_type": "code",
   "execution_count": 8,
   "id": "710dd95b-8c50-4462-bbde-bb91db26d85e",
   "metadata": {},
   "outputs": [
    {
     "name": "stdout",
     "output_type": "stream",
     "text": [
      "Fiber directions set to  10  degrees ( 0.17453292519943295  radians)\n",
      "[[ 0.          0.        ]\n",
      " [ 1.07087813  0.19739841]\n",
      " [ 2.29707897  0.42600305]\n",
      " [ 3.73982384  0.6939273 ]\n",
      " [ 5.49544981  1.01540952]\n",
      " [ 7.71157638  1.41391158]\n",
      " [10.61447776  1.92716025]\n",
      " [14.55572515  2.61571986]\n",
      " [20.09275611  3.57794081]\n",
      " [28.13077066  4.97660603]]\n",
      "[[ 0.          0.        ]\n",
      " [ 1.07087813  0.19739841]\n",
      " [ 2.29707897  0.42600305]\n",
      " [ 3.73982384  0.6939273 ]\n",
      " [ 5.49544981  1.01540952]\n",
      " [ 7.71157638  1.41391158]\n",
      " [10.61447776  1.92716025]\n",
      " [14.55572515  2.61571986]\n",
      " [20.09275611  3.57794081]\n",
      " [28.13077066  4.97660603]]\n"
     ]
    }
   ],
   "source": [
    "#output tension\n",
    "sample = pmt.PlanarBiaxialExtension(mat,force_measure='tension')\n",
    "pmt.specify_two_fibers(sample,10)\n",
    "params.set('L10',1)\n",
    "params.set('L20',1)\n",
    "params.set('thick',1)\n",
    "print(sample.disp_controlled(stretch,params)) #prints tension, which will depend on thickness, but not lengths\n",
    "params.set('L10',2)\n",
    "params.set('L20',2)\n",
    "print(sample.disp_controlled(stretch,params)) #see the new tension, which should be the same (independent of the lengths)"
   ]
  },
  {
   "cell_type": "code",
   "execution_count": 9,
   "id": "d5f671c0-aea6-4205-bacc-e7f108525156",
   "metadata": {},
   "outputs": [
    {
     "name": "stdout",
     "output_type": "stream",
     "text": [
      "Fiber directions set to  10  degrees ( 0.17453292519943295  radians)\n",
      "[[ 0.          0.        ]\n",
      " [ 1.07087813  0.19739841]\n",
      " [ 2.29707897  0.42600305]\n",
      " [ 3.73982384  0.6939273 ]\n",
      " [ 5.49544981  1.01540952]\n",
      " [ 7.71157638  1.41391158]\n",
      " [10.61447776  1.92716025]\n",
      " [14.55572515  2.61571986]\n",
      " [20.09275611  3.57794081]\n",
      " [28.13077066  4.97660603]]\n"
     ]
    }
   ],
   "source": [
    "#output 1st PK stress\n",
    "sample = pmt.PlanarBiaxialExtension(mat,force_measure='1pk')\n",
    "pmt.specify_two_fibers(sample,10)\n",
    "params.set('L10',1)\n",
    "params.set('L20',1)\n",
    "params.set('thick',1)\n",
    "print(sample.disp_controlled(stretch,params)) #prints 1st PK stress"
   ]
  },
  {
   "cell_type": "markdown",
   "id": "761f22a3-d711-4826-9983-a9bea0009970",
   "metadata": {},
   "source": [
    "## Different `disp_measure`s"
   ]
  },
  {
   "cell_type": "markdown",
   "id": "5a48a4a5-fb0c-422a-be3f-99cc1fc59822",
   "metadata": {},
   "source": [
    "There are different options for the `disp_measure` argument, as we can see from the helper function. Thus, one can use different ones when creating the sample. This will result in different outputs from `force_controlled`. Similarly, the inputs to the `disp_controlled` will be treated as the chosen `disp_measure`."
   ]
  },
  {
   "cell_type": "markdown",
   "id": "eb7087a5-8b2a-45af-878d-2eb01c87fcca",
   "metadata": {},
   "source": [
    "When using `force_controlled` simulation, an iterative solution is involved, for which an initial guess is required. There is a default value, which may not be reasonable for different `disp_measure`s leading to non-convergence of the iterative solver. Thus, we explicitly specify the initial guess using `x0` argument."
   ]
  },
  {
   "cell_type": "code",
   "execution_count": 10,
   "id": "00580aff-e0df-4ebc-8825-7cd1d5b080a7",
   "metadata": {},
   "outputs": [
    {
     "name": "stdout",
     "output_type": "stream",
     "text": [
      "strain [0.01 0.09]\n",
      "deltal [0.1 0.3]\n",
      "length [1.1 1.3]\n"
     ]
    }
   ],
   "source": [
    "sample2 = pmt.PlanarBiaxialExtension(mat,disp_measure='strain')\n",
    "pmt.specify_two_fibers(sample2,10,verbose=False)\n",
    "result = sample2.force_controlled(stress,params, x0=[0.,0.])\n",
    "print('strain', result[-1])\n",
    "\n",
    "sample2 = pmt.PlanarBiaxialExtension(mat,disp_measure='deltal')\n",
    "pmt.specify_two_fibers(sample2,10,verbose=False)\n",
    "result = sample2.force_controlled(stress,params, x0=[0.,0.])\n",
    "print('deltal', result[-1])\n",
    "\n",
    "sample2 = pmt.PlanarBiaxialExtension(mat,disp_measure='length')\n",
    "pmt.specify_two_fibers(sample2,10,verbose=False)\n",
    "result = sample2.force_controlled(stress,params, x0=[params['L10'].value,params['L20'].value])\n",
    "print('length', result[-1])"
   ]
  },
  {
   "cell_type": "markdown",
   "id": "c2005e83-e915-4f1c-a124-26b94307ed84",
   "metadata": {},
   "source": [
    "## Fiber direction warning"
   ]
  },
  {
   "cell_type": "markdown",
   "id": "fc739633-5cf8-4507-88dd-879e23a9468a",
   "metadata": {},
   "source": [
    "One can manually specify fiber direction in the material models before using them to create a `PlanarBiaxialExtension` sample, as follows."
   ]
  },
  {
   "cell_type": "code",
   "execution_count": 11,
   "id": "9ebbbd84-2f50-424e-9a29-f16fd42a437c",
   "metadata": {},
   "outputs": [],
   "source": [
    "mat = pmt.MatModel('goh','nh')\n",
    "mat_models = mat.models\n",
    "mat_models[0].fiber_dirs = np.array([1,0,0])\n",
    "sample = pmt.PlanarBiaxialExtension(mat)"
   ]
  },
  {
   "cell_type": "markdown",
   "id": "081c6b51-1d6f-4284-b1c2-121b1ab3c71f",
   "metadata": {},
   "source": [
    "However, this makes it possible to create out of plane fiber directions, which can result in erroneous result. Thus, in such situations a warning will be generated."
   ]
  },
  {
   "cell_type": "code",
   "execution_count": 12,
   "id": "a6287d41-2bf6-4463-a409-d28cf5bfcae7",
   "metadata": {},
   "outputs": [
    {
     "name": "stderr",
     "output_type": "stream",
     "text": [
      "c:\\Users\\2712332R\\AppData\\Local\\anaconda3\\envs\\pymecht\\Lib\\site-packages\\pymecht\\SampleExperiment.py:423: UserWarning: The PlanarBiaxialExtension assumes that fibers are in the plane. This is not satisfied and the results may be spurious.\n",
      "  warnings.warn(\"The PlanarBiaxialExtension assumes that fibers are in the plane. This is not satisfied and the results may be spurious.\")\n"
     ]
    }
   ],
   "source": [
    "mat = pmt.MatModel('goh','nh')\n",
    "mat_models = mat.models\n",
    "mat_models[0].fiber_dirs = np.array([0.5,0,0.5])\n",
    "sample = pmt.PlanarBiaxialExtension(mat)"
   ]
  },
  {
   "cell_type": "markdown",
   "id": "bea24f73-2e25-4f28-bd5c-fe1c9b49f827",
   "metadata": {},
   "source": [
    "Thus, helper functions `specify_single_fiber` and `specify_two_fibers` are provided to avoid such errors."
   ]
  }
 ],
 "metadata": {
  "kernelspec": {
   "display_name": "Python 3 (ipykernel)",
   "language": "python",
   "name": "python3"
  },
  "language_info": {
   "codemirror_mode": {
    "name": "ipython",
    "version": 3
   },
   "file_extension": ".py",
   "mimetype": "text/x-python",
   "name": "python",
   "nbconvert_exporter": "python",
   "pygments_lexer": "ipython3",
   "version": "3.12.3"
  }
 },
 "nbformat": 4,
 "nbformat_minor": 5
}
