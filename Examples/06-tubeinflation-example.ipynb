{
 "cells": [
  {
   "cell_type": "markdown",
   "id": "068b2a62-5851-45da-b2e9-2cc734c6634e",
   "metadata": {},
   "source": [
    "# Using TubeInflation"
   ]
  },
  {
   "cell_type": "code",
   "execution_count": 1,
   "id": "cefa2ca7-174d-48e3-a26f-0a9781231008",
   "metadata": {},
   "outputs": [],
   "source": [
    "import pymecht as pmt\n",
    "import numpy as np\n",
    "from matplotlib import pyplot as plt"
   ]
  },
  {
   "cell_type": "markdown",
   "id": "b89512a8-ec74-49f0-b14e-c98db87b4ac3",
   "metadata": {},
   "source": [
    "Inflation-extension experiments can be simulated using the `TubeInflation` class in `SampleExperiment` module as demonstrated in this example."
   ]
  },
  {
   "cell_type": "markdown",
   "id": "13c42e6a-1226-4a2f-b1b2-4f3b8a6e993b",
   "metadata": {},
   "source": [
    "## Displacement controlled"
   ]
  },
  {
   "cell_type": "markdown",
   "id": "1cbaecac-80ad-4ea5-89e6-06c263566009",
   "metadata": {},
   "source": [
    "First, we use the `TubeInflation` in a simple `disp_controlled` manner. We start by creating a material and using it to create an experiment sample. Since GOH is an anisotropic material, fiber directions need to be specified before simulation (otherwise an error is raised). In `TubeInflation` cylinderical coordinates are used in the order of radius, angle, and longitudinal length. For the model to be valid, the fiber directions need to be axially symmetric, which means they should not have a radial component, and should be symmetric about the circumferential axis. This can be automatically satisfied by using the helper function, which sets the same fiber directions to all material model components, as below."
   ]
  },
  {
   "cell_type": "code",
   "execution_count": 2,
   "id": "a081e150-3020-4035-b775-0cba443e05a0",
   "metadata": {},
   "outputs": [
    {
     "name": "stdout",
     "output_type": "stream",
     "text": [
      "Fiber directions set to  10  degrees ( 0.17453292519943295  radians)\n",
      "An object of type TubeInflationwith radius as input, pressure as output, and the following material\n",
      "Material model with 2 components:\n",
      "Component1: YEOH with fiber direction(s):[array([0.        , 0.98480775, 0.17364818]), array([ 0.        ,  0.98480775, -0.17364818])]\n",
      "Component2: GOH with fiber direction(s):[array([0.        , 0.98480775, 0.17364818]), array([ 0.        ,  0.98480775, -0.17364818])]\n",
      " ------------------------------------------------------------------\n",
      "Keys              Value       Fixed?      Lower bound Upper bound \n",
      "------------------------------------------------------------------\n",
      "Ri                1.00        No          0.50        1.50        \n",
      "thick             0.10        No          0.00        1.00        \n",
      "omega             0.00        No          0.00        0.00        \n",
      "L0                1.00        No          1.00        1.00        \n",
      "lambdaZ           1.00        No          1.00        1.00        \n",
      "c1_0              1.00        No          1.00e-04    1.00e+02    \n",
      "c2_0              1.00        No          0.00        1.00e+02    \n",
      "c3_0              1.00        No          0.00        1.00e+02    \n",
      "c4_0              0.00        No          0.00        1.00e+02    \n",
      "k1_1              10.00       No          0.10        30.00       \n",
      "k2_1              10.00       No          0.10        30.00       \n",
      "k3_1              0.10        No          0.00        0.33        \n",
      "------------------------------------------------------------------\n",
      "\n"
     ]
    }
   ],
   "source": [
    "mat_model = pmt.MatModel('Yeoh','goh')\n",
    "sample = pmt.TubeInflation(mat_model)\n",
    "pmt.specify_two_fibers(sample,10)\n",
    "params = sample.parameters\n",
    "print(sample,params)"
   ]
  },
  {
   "cell_type": "markdown",
   "id": "b189b917-8e50-4b6c-8dd0-453d4219dd63",
   "metadata": {},
   "source": [
    "By default, the displacement measure (input) is radius and the force measure (output) is pressure. Moreover, we can see that the sample parameters include geometric ones (radius, thickness, length, opening angle omega, and longitudinal stretch lambdaZ) in addition to the material parameters. Next we set the parameter values."
   ]
  },
  {
   "cell_type": "code",
   "execution_count": 3,
   "id": "3b23305d-dde4-464e-94cc-7a47bd34e0b0",
   "metadata": {},
   "outputs": [
    {
     "name": "stdout",
     "output_type": "stream",
     "text": [
      "------------------------------------------------------------------\n",
      "Keys              Value       Fixed?      Lower bound Upper bound \n",
      "------------------------------------------------------------------\n",
      "Ri                9.00        No          0.50        1.50        \n",
      "thick             2.00        No          0.00        1.00        \n",
      "omega             0.00        No          0.00        0.00        \n",
      "L0                1.00        No          1.00        1.00        \n",
      "lambdaZ           1.00        No          1.00        1.00        \n",
      "c1_0              28.00       No          1.00e-04    1.00e+02    \n",
      "c2_0              21.00       No          0.00        1.00e+02    \n",
      "c3_0              8.00        No          0.00        1.00e+02    \n",
      "c4_0              1.00        No          0.00        1.00e+02    \n",
      "k1_1              5.00        No          0.10        30.00       \n",
      "k2_1              15.00       No          0.10        30.00       \n",
      "k3_1              0.10        No          0.00        0.33        \n",
      "------------------------------------------------------------------\n",
      "\n"
     ]
    }
   ],
   "source": [
    "params.set('Ri', 9) \n",
    "params.set('thick', 2)\n",
    "params.set('omega', 0)\n",
    "params.set('L0', 1)\n",
    "params.set('lambdaZ', 1)\n",
    "params.set('c1_0', 28)\n",
    "params.set('c2_0', 21)\n",
    "params.set('c3_0', 8)\n",
    "params.set('c4_0', 1)\n",
    "params.set('k1_1',5.)\n",
    "params.set('k2_1',15)\n",
    "params.set('k3_1',0.1)\n",
    "print(params)"
   ]
  },
  {
   "cell_type": "markdown",
   "id": "310d28a5-e823-404e-bacc-48b4feacfc4f",
   "metadata": {},
   "source": [
    "and fix certain parameters (for the parameter fitting etc.)."
   ]
  },
  {
   "cell_type": "code",
   "execution_count": 4,
   "id": "7f19d749-e78a-4ffe-803c-0459d667e0ce",
   "metadata": {},
   "outputs": [
    {
     "name": "stdout",
     "output_type": "stream",
     "text": [
      "------------------------------------------------------------------\n",
      "Keys              Value       Fixed?      Lower bound Upper bound \n",
      "------------------------------------------------------------------\n",
      "Ri                9.00        Yes         -           -           \n",
      "thick             2.00        Yes         -           -           \n",
      "omega             0.00        Yes         -           -           \n",
      "L0                1.00        Yes         -           -           \n",
      "lambdaZ           1.00        Yes         -           -           \n",
      "c1_0              28.00       No          1.00e-04    1.00e+02    \n",
      "c2_0              21.00       No          0.00        1.00e+02    \n",
      "c3_0              8.00        No          0.00        1.00e+02    \n",
      "c4_0              1.00        No          0.00        1.00e+02    \n",
      "k1_1              5.00        No          0.10        30.00       \n",
      "k2_1              15.00       No          0.10        30.00       \n",
      "k3_1              0.10        No          0.00        0.33        \n",
      "------------------------------------------------------------------\n",
      "\n"
     ]
    }
   ],
   "source": [
    "params.fix('Ri')\n",
    "params.fix('thick')\n",
    "params.fix('omega')\n",
    "params.fix('L0')\n",
    "params.fix('lambdaZ')\n",
    "print(params)"
   ]
  },
  {
   "cell_type": "markdown",
   "id": "367ff4ca-176c-422b-a5e8-c32c9f267e0a",
   "metadata": {},
   "source": [
    "Then we perform the simulation by specifying the deformed internal radius in the `disp_controlled` method."
   ]
  },
  {
   "cell_type": "code",
   "execution_count": 5,
   "id": "f1d4b739-b9cf-4ab4-bb37-4568b2814b5e",
   "metadata": {},
   "outputs": [
    {
     "data": {
      "image/png": "[encoded data removed]",
      "text/plain": [
       "<Figure size 432x288 with 1 Axes>"
      ]
     },
     "metadata": {
      "needs_background": "light"
     },
     "output_type": "display_data"
    }
   ],
   "source": [
    "from matplotlib import pyplot as plt\n",
    "def_radius = np.linspace(9,12,100)\n",
    "plt.plot(def_radius,sample.disp_controlled(def_radius,params)) \n",
    "plt.ylabel('Pressure acting on the tube')\n",
    "plt.xlabel('Internal radius')\n",
    "plt.title('Displacement control plot')\n",
    "plt.show()"
   ]
  },
  {
   "cell_type": "markdown",
   "id": "fd8a539a-6896-43d0-89e6-d34ff48aef84",
   "metadata": {},
   "source": [
    "## Force controlled"
   ]
  },
  {
   "cell_type": "markdown",
   "id": "2cbbcb7f-bb47-4f1d-9745-15890ab8b377",
   "metadata": {},
   "source": [
    "Inversely, one can specify the force acting on the tube and calculate the deformed internal radius using `force_controlled` method."
   ]
  },
  {
   "cell_type": "code",
   "execution_count": 6,
   "id": "9fbaaa0a-91d0-4de6-b964-c2468cefb7e4",
   "metadata": {},
   "outputs": [
    {
     "data": {
      "image/png": "[encoded data removed]",
      "text/plain": [
       "<Figure size 432x288 with 1 Axes>"
      ]
     },
     "metadata": {
      "needs_background": "light"
     },
     "output_type": "display_data"
    }
   ],
   "source": [
    "from matplotlib import pyplot as plt\n",
    "force = np.linspace(0,2000,100)\n",
    "plt.plot(force,sample.force_controlled(force,params)) \n",
    "plt.ylabel('Deformed internal radius')\n",
    "plt.xlabel('Applied pressure')\n",
    "plt.title('Force control plot')\n",
    "plt.show()"
   ]
  },
  {
   "cell_type": "markdown",
   "id": "1e108272-c2a2-4d4a-b5be-3970961d6765",
   "metadata": {},
   "source": [
    "Note that `force_controlled` uses iterative solver, evaluating the `disp_controlled` simulation multiple times to find the “displacement” that would result in the applied force (numerically close-enough). Thus, `force_controlled` is commonly slower than `disp_controlled`."
   ]
  },
  {
   "cell_type": "markdown",
   "id": "13433afa-6309-41c4-84a2-8598d51711d2",
   "metadata": {
    "tags": []
   },
   "source": [
    "## Stress across the thickness"
   ]
  },
  {
   "cell_type": "markdown",
   "id": "f7f9aee6-e67d-4e19-b028-d9c2416bd88a",
   "metadata": {},
   "source": [
    "Since the induced stress in a cylinder is non-uniform, we can calculate it using the `cauchy_stress` method. It takes the `disp_measure` (by default the deformed inner radius) of the tube and the parameters. The output is a tuple of the normalised thickness `xi` which has by default 10 points, and stress tensors `stress` which is a list of the stress tensors at these locations across the thickness."
   ]
  },
  {
   "cell_type": "code",
   "execution_count": 7,
   "id": "edf28232-b856-4848-8744-e5b2b44693a6",
   "metadata": {},
   "outputs": [
    {
     "name": "stdout",
     "output_type": "stream",
     "text": [
      "<class 'numpy.ndarray'> <class 'list'>\n",
      "10 10\n",
      "(3, 3)\n"
     ]
    }
   ],
   "source": [
    "xi,stress = sample.cauchy_stress([10], params)\n",
    "print(type(xi), type(stress))\n",
    "print(len(xi), len(stress))\n",
    "print(stress[0].shape)"
   ]
  },
  {
   "cell_type": "markdown",
   "id": "a9eabc71-1bff-4bb0-adc3-64e0b56c35b1",
   "metadata": {},
   "source": [
    "For visualisation, we plot the von-Mises stress at each point across the thickness."
   ]
  },
  {
   "cell_type": "code",
   "execution_count": 8,
   "id": "619008ce-4595-4039-a466-b6055d70068b",
   "metadata": {},
   "outputs": [
    {
     "data": {
      "image/png": "[encoded data removed]",
      "text/plain": [
       "<Figure size 432x288 with 1 Axes>"
      ]
     },
     "metadata": {
      "needs_background": "light"
     },
     "output_type": "display_data"
    }
   ],
   "source": [
    "def von_mises(sigma_list):\n",
    "    return [sqrt(3./2.)*np.linalg.norm(sigma-np.trace(sigma)/3.*np.eye(3)) for sigma in sigma_list]\n",
    "\n",
    "plt.plot(xi,von_mises(stress))\n",
    "plt.xlabel('Normalized thickness')\n",
    "plt.ylabel('von-Mises stress')\n",
    "plt.show()"
   ]
  },
  {
   "cell_type": "markdown",
   "id": "ed07c89f-328c-408a-b579-dd01c99f42f3",
   "metadata": {},
   "source": [
    "## Different `force_measure`s"
   ]
  },
  {
   "cell_type": "markdown",
   "id": "231fe26b-1945-46d7-9bc9-f5b5cba462cc",
   "metadata": {},
   "source": [
    "There are two options for the `force_measure` argument, as we can see from the helper function."
   ]
  },
  {
   "cell_type": "code",
   "execution_count": 9,
   "id": "8cb45386-ad84-436e-96a6-9f2e19366fe3",
   "metadata": {},
   "outputs": [
    {
     "data": {
      "text/plain": [
       "\u001b[0;31mInit signature:\u001b[0m\n",
       "\u001b[0mpmt\u001b[0m\u001b[0;34m.\u001b[0m\u001b[0mTubeInflation\u001b[0m\u001b[0;34m(\u001b[0m\u001b[0;34m\u001b[0m\n",
       "\u001b[0;34m\u001b[0m    \u001b[0mmat_model\u001b[0m\u001b[0;34m,\u001b[0m\u001b[0;34m\u001b[0m\n",
       "\u001b[0;34m\u001b[0m    \u001b[0mdisp_measure\u001b[0m\u001b[0;34m=\u001b[0m\u001b[0;34m'radius'\u001b[0m\u001b[0;34m,\u001b[0m\u001b[0;34m\u001b[0m\n",
       "\u001b[0;34m\u001b[0m    \u001b[0mforce_measure\u001b[0m\u001b[0;34m=\u001b[0m\u001b[0;34m'pressure'\u001b[0m\u001b[0;34m,\u001b[0m\u001b[0;34m\u001b[0m\n",
       "\u001b[0;34m\u001b[0m\u001b[0;34m)\u001b[0m\u001b[0;34m\u001b[0m\u001b[0;34m\u001b[0m\u001b[0m\n",
       "\u001b[0;31mDocstring:\u001b[0m     \n",
       "For simulating uniform axisymmetric inflation of a tube\n",
       "\n",
       "+-----------+-----------------------------+\n",
       "| Parameter | Description (default)       |\n",
       "+===========+=============================+\n",
       "| Ri        | Internal radius (1)         |\n",
       "+-----------+-----------------------------+\n",
       "| thick     | Thickness (0.1)             |\n",
       "+-----------+-----------------------------+\n",
       "| omega     | Opening angle (radians) (0) |\n",
       "+-----------+-----------------------------+\n",
       "| L0        | Length of sample (1)        |\n",
       "+-----------+-----------------------------+\n",
       "| lambdaZ   | Longitudinal stretch (1)    |\n",
       "+-----------+-----------------------------+\n",
       "\n",
       "Parameters\n",
       "----------\n",
       "mat_model: MatModel\n",
       "    A material model object of type MatModel\n",
       "disp_measure: str\n",
       "    The measure of displacement with the following options:    \n",
       "    \n",
       "    * 'stretch' : Ratio of deformed to reference internal radius\n",
       "    * 'deltar' : Change in internal radius\n",
       "    * 'radius' : Deformed internal radius (default)\n",
       "    * 'area' : Deformed internal area\n",
       "    \n",
       "force_measure: str\n",
       "    The measure of force with the following options:\n",
       "    \n",
       "    * 'force' : Total force acting on the tube length\n",
       "    * 'pressure' : Internal pressure acting on the tube (default)\n",
       "    \n",
       "\u001b[0;31mFile:\u001b[0m           /usr/local/lib/python3.9/site-packages/pymecht/SampleExperiment.py\n",
       "\u001b[0;31mType:\u001b[0m           type\n",
       "\u001b[0;31mSubclasses:\u001b[0m     \n"
      ]
     },
     "metadata": {},
     "output_type": "display_data"
    }
   ],
   "source": [
    "pmt.TubeInflation?"
   ]
  },
  {
   "cell_type": "code",
   "execution_count": 10,
   "id": "da6b95ca-d72a-47ac-855e-deec5a531487",
   "metadata": {},
   "outputs": [
    {
     "name": "stdout",
     "output_type": "stream",
     "text": [
      "4.008308115330826\n",
      "4.008308115330826\n"
     ]
    }
   ],
   "source": [
    "#output pressure (by default)\n",
    "sample = pmt.TubeInflation(mat_model,force_measure='pressure')\n",
    "params.set('L0',1)\n",
    "print(sample.disp_controlled(10,params)) #prints presssure at a deformed radius of 10\n",
    "\n",
    "params.set('L0',2)\n",
    "print(sample.disp_controlled(10,params)) #the pressure remains unchanged"
   ]
  },
  {
   "cell_type": "code",
   "execution_count": 11,
   "id": "24fe06cd-da24-4073-940d-617d4cd95534",
   "metadata": {},
   "outputs": [
    {
     "name": "stdout",
     "output_type": "stream",
     "text": [
      "251.84942656895345\n",
      "503.6988531379069\n"
     ]
    }
   ],
   "source": [
    "#output force, which depends on the length of the tube\n",
    "sample = pmt.TubeInflation(mat_model,force_measure='force')\n",
    "params.set('L0',1)\n",
    "print(sample.disp_controlled(10,params)) #prints force at a deformed radius of 10, which depends on the reference radius and length of the sample\n",
    "\n",
    "params.set('L0',2)\n",
    "print(sample.disp_controlled(10,params)) #see the new force, which should be twice"
   ]
  },
  {
   "cell_type": "markdown",
   "id": "112cae44-ba5d-466f-b21d-e46cd5d96d43",
   "metadata": {},
   "source": [
    "## Different `disp_measure`s"
   ]
  },
  {
   "cell_type": "markdown",
   "id": "e2f07f47-aa6a-422d-a709-d7ebdb56e536",
   "metadata": {},
   "source": [
    "There are four options for the `disp_measure` argument, as we can see from the helper function above. Thus, one can use different ones when creating the sample. This will result in different outputs from `force_controlled`. Similarly, the inputs to the `disp_controlled` will be treated as the chosen `disp_measure`.\n",
    "\n",
    "When using `force_controlled` simulation, an iterative solution is involved, for which an initial guess is required. There is a default value, which may not be reasonable for different `disp_measure`s. Thus, we can explicitly specify the initial guess using `x0` argument."
   ]
  },
  {
   "cell_type": "code",
   "execution_count": 12,
   "id": "cbf46528-6c43-4bef-8e29-d841d4ac82c9",
   "metadata": {},
   "outputs": [
    {
     "name": "stdout",
     "output_type": "stream",
     "text": [
      "stretch 1.2239472787140655\n",
      "deltar 2.0155255084265886\n",
      "radius 11.015525508426588\n",
      "area 381.2065144490343\n"
     ]
    }
   ],
   "source": [
    "sample2 = pmt.TubeInflation(mat_model, disp_measure='stretch', force_measure='pressure')\n",
    "print('stretch', sample2.force_controlled(10,params,x0=1))\n",
    "\n",
    "sample2 = pmt.TubeInflation(mat_model, disp_measure='deltar', force_measure='pressure')\n",
    "print('deltar', sample2.force_controlled(10,params,x0=0))\n",
    "\n",
    "sample2 = pmt.TubeInflation(mat_model, disp_measure='radius', force_measure='pressure')\n",
    "print('radius', sample2.force_controlled(10,params,x0=params['Ri'].value))\n",
    "\n",
    "sample2 = pmt.TubeInflation(mat_model, disp_measure='area', force_measure='pressure')\n",
    "area = np.pi*(params['Ri'].value)**2 #calculates the lumen area\n",
    "print('area', sample2.force_controlled(10,params,x0=area))"
   ]
  },
  {
   "cell_type": "markdown",
   "id": "da46907a-add2-409d-84aa-9eee2773f4ec",
   "metadata": {},
   "source": [
    "## Fiber direction warning"
   ]
  },
  {
   "cell_type": "markdown",
   "id": "497a670a-cb69-42cd-a189-9c9122a79cb1",
   "metadata": {},
   "source": [
    "One can manually specify the fiber direction in the material models before using them to create a `TubeInflation` sample, as follows."
   ]
  },
  {
   "cell_type": "code",
   "execution_count": 13,
   "id": "ae8273f9-acfa-45da-a971-ce122fc37df4",
   "metadata": {},
   "outputs": [
    {
     "name": "stdout",
     "output_type": "stream",
     "text": [
      "An object of type TubeInflationwith radius as input, pressure as output, and the following material\n",
      "Material model with 2 components:\n",
      "Component1: YEOH\n",
      "Component2: GOH with fiber direction(s):[array([0.        , 0.70710678, 0.70710678])]\n",
      "\n"
     ]
    },
    {
     "name": "stderr",
     "output_type": "stream",
     "text": [
      "/usr/local/lib/python3.9/site-packages/pymecht/SampleExperiment.py:536: UserWarning: The TubeInflation assumes that fibers are symmetric w.r.t. axes. This is not satisfied and the results may be spurious.\n",
      "  warnings.warn(\"The TubeInflation assumes that fibers are symmetric w.r.t. axes. This is not satisfied and the results may be spurious.\")\n"
     ]
    }
   ],
   "source": [
    "mat = pmt.MatModel('yeoh','goh')\n",
    "mat_models = mat.models\n",
    "mat_models[1].fiber_dirs = np.array([0,1,1])\n",
    "sample = pmt.TubeInflation(mat)\n",
    "print(sample)"
   ]
  },
  {
   "cell_type": "markdown",
   "id": "39da6bd1-26f7-4b30-b475-a848ac95375f",
   "metadata": {},
   "source": [
    "However, it raises a warning that the fiber directions are not symmetric with respect to the coordinate system, which means there are shear stresses that are being ignored during the simulation. Therefore, to avoid such issues, helper functions `specifiy_single_fiber` and `specify_two_fibers` are provided."
   ]
  },
  {
   "cell_type": "markdown",
   "id": "776a3f45-9611-4786-a726-be08a37536a1",
   "metadata": {},
   "source": [
    "## Least square fitting"
   ]
  },
  {
   "cell_type": "markdown",
   "id": "462db114-060e-4dd2-9cf5-9d40ed7c9d82",
   "metadata": {},
   "source": [
    "One can also use `TubeInflation` instance to perform parameter fitting as demonstrated below. More details on this are provided in the \"Using ParamFitter\" example."
   ]
  },
  {
   "cell_type": "code",
   "execution_count": 14,
   "id": "c665b0f1-690e-44c7-8162-ab94be9c24d1",
   "metadata": {},
   "outputs": [
    {
     "name": "stdout",
     "output_type": "stream",
     "text": [
      "Fiber directions set to  10  degrees ( 0.17453292519943295  radians)\n",
      "Parameter fitting instance created with the following settings\n",
      "------------------------------------------------------------------\n",
      "Keys              Value       Fixed?      Lower bound Upper bound \n",
      "------------------------------------------------------------------\n",
      "Ri                9.00        Yes         -           -           \n",
      "thick             2.00        Yes         -           -           \n",
      "omega             0.00        Yes         -           -           \n",
      "L0                2.00        Yes         -           -           \n",
      "lambdaZ           1.00        Yes         -           -           \n",
      "c1_0              28.00       No          1.00e-04    1.00e+02    \n",
      "c2_0              21.00       No          0.00        1.00e+02    \n",
      "c3_0              8.00        No          0.00        1.00e+02    \n",
      "c4_0              1.00        No          0.00        1.00e+02    \n",
      "k1_1              5.00        No          0.10        30.00       \n",
      "k2_1              15.00       No          0.10        30.00       \n",
      "k3_1              0.10        No          0.00        0.33        \n",
      "------------------------------------------------------------------\n",
      "\n",
      "7 parameters will be fitted.\n"
     ]
    }
   ],
   "source": [
    "applied_radius = np.linspace(9,12,20)\n",
    "measured_pressure = np.linspace(0,10,20)\n",
    "\n",
    "sample = pmt.TubeInflation(mat_model, force_measure='pressure')\n",
    "pmt.specify_two_fibers(sample,10)\n",
    "\n",
    "def sim_func(param):\n",
    "    return sample.disp_controlled(applied_radius,param)\n",
    "\n",
    "param_fitter = pmt.ParamFitter(sim_func,measured_pressure,params)"
   ]
  },
  {
   "cell_type": "code",
   "execution_count": 15,
   "id": "b904bd23-dccc-4dbf-adfb-460fb2805bc3",
   "metadata": {},
   "outputs": [
    {
     "name": "stdout",
     "output_type": "stream",
     "text": [
      "   Iteration     Total nfev        Cost      Cost reduction    Step norm     Optimality   \n",
      "       0              1         2.0177e+03                                    2.95e+04    \n",
      "       1              2         3.1888e+02      1.70e+03       4.40e+00       4.18e+03    \n",
      "       2              3         4.5504e+01      2.73e+02       2.56e+00       5.99e+02    \n",
      "       3              4         6.7995e+00      3.87e+01       1.64e+00       9.19e+01    \n",
      "       4              5         1.2549e+00      5.54e+00       2.33e+00       1.72e+01    \n",
      "       5              6         3.0985e-01      9.45e-01       1.61e+00       5.45e+00    \n",
      "       6              7         1.5975e-01      1.50e-01       1.88e+00       2.60e+00    \n",
      "       7              8         1.1851e-01      4.12e-02       3.71e+00       2.81e+00    \n",
      "       8              9         9.1492e-02      2.70e-02       2.38e+00       1.29e+00    \n",
      "       9             10         7.8419e-02      1.31e-02       2.86e+00       1.06e+00    \n",
      "      10             11         7.0629e-02      7.79e-03       1.73e+00       6.80e-02    \n",
      "      11             14         6.9678e-02      9.51e-04       1.32e+00       1.03e+00    \n",
      "      12             15         6.6380e-02      3.30e-03       4.41e-01       2.73e-02    \n",
      "      13             18         6.6041e-02      3.39e-04       2.34e-01       9.52e-02    \n",
      "      14             19         6.5527e-02      5.14e-04       1.96e-01       5.02e-02    \n",
      "      15             20         6.4263e-02      1.26e-03       6.82e-01       3.42e-02    \n",
      "      16             21         6.1835e-02      2.43e-03       1.39e+00       4.71e-01    \n",
      "      17             22         5.6742e-02      5.09e-03       1.22e+00       1.91e-01    \n",
      "      18             24         5.5916e-02      8.26e-04       1.29e+00       1.39e+00    \n",
      "      19             25         5.0716e-02      5.20e-03       6.46e-01       8.71e-02    \n",
      "      20             26         4.9376e-02      1.34e-03       1.51e+00       1.29e+00    \n",
      "      21             27         4.4528e-02      4.85e-03       7.50e-01       1.17e-01    \n",
      "      22             28         4.2163e-02      2.36e-03       1.43e+00       9.03e-01    \n",
      "      23             29         3.8352e-02      3.81e-03       1.03e+00       2.16e-01    \n",
      "      24             30         3.5724e-02      2.63e-03       1.40e+00       5.97e-01    \n",
      "      25             31         3.2442e-02      3.28e-03       1.41e+00       3.47e-01    \n",
      "      26             32         2.9432e-02      3.01e-03       2.27e+00       7.80e-01    \n",
      "      27             33         2.6508e-02      2.92e-03       9.07e-01       1.05e-01    \n",
      "      28             34         2.4283e-02      2.22e-03       2.65e+00       1.13e+00    \n",
      "      29             35         2.1297e-02      2.99e-03       6.41e-01       3.70e-02    \n",
      "      30             36         1.8168e-02      3.13e-03       2.49e+00       5.32e-01    \n",
      "      31             37         1.6327e-02      1.84e-03       1.17e+00       1.14e-01    \n",
      "      32             38         1.2073e-02      4.25e-03       3.89e+00       5.70e-01    \n",
      "      33             39         1.0950e-02      1.12e-03       8.19e-01       9.93e-03    \n",
      "      34             41         1.0078e-02      8.72e-04       9.37e-01       3.52e-01    \n",
      "      35             43         8.8749e-03      1.20e-03       1.44e+00       4.39e-01    \n",
      "      36             44         8.1434e-03      7.32e-04       6.94e-01       1.24e-01    \n",
      "      37             45         7.6002e-03      5.43e-04       6.55e-01       1.14e-01    \n",
      "      38             46         6.7295e-03      8.71e-04       1.11e+00       3.68e-01    \n",
      "      39             47         6.0282e-03      7.01e-04       8.86e-01       6.68e-02    \n",
      "      40             49         5.9418e-03      8.64e-05       3.91e-01       3.16e-01    \n",
      "      41             50         5.9309e-03      1.09e-05       3.17e-04       8.40e-03    \n",
      "      42             51         5.8442e-03      8.67e-05       5.17e-01       5.14e-01    \n",
      "      43             52         5.8137e-03      3.06e-05       4.88e-04       1.86e-03    \n",
      "      44             53         5.7326e-03      8.11e-05       4.87e-01       4.39e-01    \n",
      "      45             54         5.7105e-03      2.21e-05       3.90e-04       2.26e-03    \n",
      "      46             56         5.6634e-03      4.71e-05       2.42e-01       1.03e-01    \n",
      "      47             57         5.5879e-03      7.55e-05       4.60e-01       3.63e-01    \n",
      "      48             58         5.5729e-03      1.50e-05       2.96e-04       3.67e-03    \n",
      "      49             60         5.5323e-03      4.06e-05       2.31e-01       8.87e-02    \n",
      "      50             61         5.4661e-03      6.61e-05       4.50e-01       3.26e-01    \n",
      "      51             62         5.4539e-03      1.23e-05       2.47e-04       2.60e-03    \n",
      "      52             64         5.4188e-03      3.50e-05       2.19e-01       7.52e-02    \n",
      "      53             65         5.3605e-03      5.83e-05       4.29e-01       2.80e-01    \n",
      "      54             66         5.3515e-03      9.05e-06       1.98e-04       1.67e-03    \n",
      "      55             68         5.3213e-03      3.02e-05       2.07e-01       6.36e-02    \n",
      "      56             69         5.2699e-03      5.14e-05       4.05e-01       2.37e-01    \n",
      "      57             70         5.2439e-03      2.59e-05       1.49e-01       6.98e-02    \n",
      "      58             71         5.1961e-03      4.79e-05       4.27e-01       2.69e-01    \n",
      "      59             72         5.1876e-03      8.44e-06       1.72e-04       1.77e-03    \n",
      "      60             73         5.1607e-03      2.70e-05       7.33e-01       7.10e-01    \n",
      "      61             74         5.1006e-03      6.00e-05       4.37e-04       4.55e-04    \n",
      "      62             75         5.0657e-03      3.49e-05       6.62e-01       5.47e-01    \n",
      "      63             76         5.0300e-03      3.57e-05       3.18e-04       3.22e-04    \n",
      "      64             77         4.9940e-03      3.60e-05       5.98e-01       4.24e-01    \n",
      "      65             78         4.9725e-03      2.16e-05       2.34e-04       2.28e-04    \n",
      "      66             79         4.9382e-03      3.42e-05       5.34e-01       3.22e-01    \n",
      "      67             80         4.9257e-03      1.25e-05       1.71e-04       1.57e-04    \n",
      "      68             82         4.9070e-03      1.88e-05       2.34e-01       5.99e-02    \n",
      "      69             83         4.8957e-03      1.13e-05       1.39e-01       3.58e-02    \n",
      "      70             84         4.8789e-03      1.68e-05       2.22e-01       5.77e-02    \n",
      "      71             85         4.8704e-03      8.48e-06       1.10e-01       2.63e-02    \n",
      "      72             86         4.8547e-03      1.57e-05       2.22e-01       5.38e-02    \n",
      "      73             87         4.8485e-03      6.15e-06       8.32e-02       1.90e-02    \n",
      "      74             88         4.8348e-03      1.37e-05       2.03e-01       4.33e-02    \n",
      "      75             89         4.8301e-03      4.74e-06       6.79e-02       1.24e-02    \n",
      "      76             90         4.8188e-03      1.13e-05       1.75e-01       3.10e-02    \n",
      "      77             91         4.8154e-03      3.44e-06       5.23e-02       6.73e-03    \n",
      "      78             92         4.8072e-03      8.17e-06       1.31e-01       1.70e-02    \n",
      "      79             93         4.8050e-03      2.21e-06       3.53e-02       2.42e-03    \n",
      "      80             94         4.8008e-03      4.16e-06       6.84e-02       4.53e-03    \n",
      "      81             95         4.8001e-03      7.55e-07       1.24e-02       7.19e-04    \n",
      "      82             96         4.7997e-03      4.15e-07       6.87e-03       2.63e-04    \n",
      "      83             97         4.7994e-03      2.29e-07       3.79e-03       1.67e-05    \n",
      "      84             98         4.7994e-03      6.61e-09       1.09e-04       7.00e-06    \n",
      "      85             99         4.7994e-03      4.38e-09       7.23e-05       4.12e-07    \n",
      "      86             100        4.7994e-03      3.36e-10       5.51e-06       1.13e-07    \n",
      "      87             101        4.7994e-03      1.90e-11       3.41e-07       1.81e-09    \n",
      "`gtol` termination condition is satisfied.\n",
      "Function evaluations 101, initial cost 2.0177e+03, final cost 4.7994e-03, first-order optimality 1.81e-09.\n",
      "Fitting completed, with the following results\n",
      "------------------------------------------------------------------\n",
      "Keys              Value       Fixed?      Lower bound Upper bound \n",
      "------------------------------------------------------------------\n",
      "Ri                9.00        Yes         -           -           \n",
      "thick             2.00        Yes         -           -           \n",
      "omega             0.00        Yes         -           -           \n",
      "L0                2.00        Yes         -           -           \n",
      "lambdaZ           1.00        Yes         -           -           \n",
      "c1_0              13.18       No          1.00e-04    1.00e+02    \n",
      "c2_0              1.03e-48    No          0.00        1.00e+02    \n",
      "c3_0              4.50e-40    No          0.00        1.00e+02    \n",
      "c4_0              4.07e-39    No          0.00        1.00e+02    \n",
      "k1_1              30.00       No          0.10        30.00       \n",
      "k2_1              0.10        No          0.10        30.00       \n",
      "k3_1              0.13        No          0.00        0.33        \n",
      "------------------------------------------------------------------\n",
      "\n"
     ]
    }
   ],
   "source": [
    "res = param_fitter.fit()"
   ]
  },
  {
   "cell_type": "code",
   "execution_count": 16,
   "id": "db0bf90e-5fbf-4c30-9555-eeb1b6089185",
   "metadata": {},
   "outputs": [
    {
     "name": "stdout",
     "output_type": "stream",
     "text": [
      "------------------------------------------------------------------\n",
      "Keys              Value       Fixed?      Lower bound Upper bound \n",
      "------------------------------------------------------------------\n",
      "Ri                9.00        Yes         -           -           \n",
      "thick             2.00        Yes         -           -           \n",
      "omega             0.00        Yes         -           -           \n",
      "L0                2.00        Yes         -           -           \n",
      "lambdaZ           1.00        Yes         -           -           \n",
      "c1_0              13.18       No          1.00e-04    1.00e+02    \n",
      "c2_0              1.03e-48    No          0.00        1.00e+02    \n",
      "c3_0              4.50e-40    No          0.00        1.00e+02    \n",
      "c4_0              4.07e-39    No          0.00        1.00e+02    \n",
      "k1_1              30.00       No          0.10        30.00       \n",
      "k2_1              0.10        No          0.10        30.00       \n",
      "k3_1              0.13        No          0.00        0.33        \n",
      "------------------------------------------------------------------\n",
      "\n"
     ]
    }
   ],
   "source": [
    "print(params)"
   ]
  },
  {
   "cell_type": "code",
   "execution_count": 17,
   "id": "7dd89950-4fab-43d9-bd6d-7b2ae08c23b5",
   "metadata": {},
   "outputs": [
    {
     "data": {
      "image/png": "[encoded data removed]",
      "text/plain": [
       "<Figure size 432x288 with 1 Axes>"
      ]
     },
     "metadata": {
      "needs_background": "light"
     },
     "output_type": "display_data"
    }
   ],
   "source": [
    "plt.plot(applied_radius,sample.disp_controlled(applied_radius,params),label='Fitted') \n",
    "plt.plot(applied_radius,measured_pressure,'o',label='Observed')\n",
    "plt.ylabel('Internal pressure in kPa')\n",
    "plt.xlabel('Internal radius in mm')\n",
    "plt.legend()\n",
    "plt.show()"
   ]
  }
 ],
 "metadata": {
  "kernelspec": {
   "display_name": "Python 3 (ipykernel)",
   "language": "python",
   "name": "python3"
  },
  "language_info": {
   "codemirror_mode": {
    "name": "ipython",
    "version": 3
   },
   "file_extension": ".py",
   "mimetype": "text/x-python",
   "name": "python",
   "nbconvert_exporter": "python",
   "pygments_lexer": "ipython3",
   "version": "3.9.16"
  }
 },
 "nbformat": 4,
 "nbformat_minor": 5
}
