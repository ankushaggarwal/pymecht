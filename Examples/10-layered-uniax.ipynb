{
 "cells": [
  {
   "cell_type": "markdown",
   "id": "03bf5cde-0076-4fcc-a97b-05e5c2afaf5b",
   "metadata": {},
   "source": [
    "# Using LayeredUniaxial"
   ]
  },
  {
   "cell_type": "code",
   "execution_count": 1,
   "id": "7b5ad552-a0fc-4f1c-8a58-e17a65e7582d",
   "metadata": {},
   "outputs": [],
   "source": [
    "import pymecht as pmt\n",
    "from matplotlib import pyplot as plt\n",
    "import numpy as np"
   ]
  },
  {
   "cell_type": "markdown",
   "id": "8a7da9e9-eb77-4add-903d-be078622e4b8",
   "metadata": {},
   "source": [
    "We start by creating two uniaxial samples with different material properties and different **reference length**, one with `L0=20` and second with `L0=22`. We also set the fiber direction to the first axis for both."
   ]
  },
  {
   "cell_type": "code",
   "execution_count": 2,
   "id": "53debe42-10bd-4f97-ab71-f6be4b9b0fcc",
   "metadata": {},
   "outputs": [
    {
     "name": "stdout",
     "output_type": "stream",
     "text": [
      "Fiber directions set to  0  degrees ( 0.0  radians)\n",
      "Fiber directions set to  0  degrees ( 0.0  radians)\n"
     ]
    }
   ],
   "source": [
    "mat1 = pmt.MatModel('nh','goh')\n",
    "strip_1 = pmt.UniaxialExtension(mat1,disp_measure='length', force_measure='force')\n",
    "pmt.specify_single_fiber(strip_1)\n",
    "params = strip_1.parameters\n",
    "params.set('mu_0',22.57)\n",
    "params.set('k1_1',276.45)\n",
    "params.set('k2_1',42.85)\n",
    "params.set('k3_1',0.246)\n",
    "params.set('L0',20)\n",
    "strip_1.parameters = params\n",
    "\n",
    "mat2 = pmt.MatModel('nh','goh')\n",
    "strip_2 = pmt.UniaxialExtension(mat2,disp_measure='length', force_measure='force')\n",
    "pmt.specify_single_fiber(strip_2)\n",
    "params = strip_2.parameters\n",
    "params.set('mu_0',14.30)\n",
    "params.set('k1_1',290.22)\n",
    "params.set('k2_1',4.87)\n",
    "params.set('k3_1',0.224)\n",
    "params.set('L0',22)\n",
    "strip_2.parameters = params"
   ]
  },
  {
   "cell_type": "markdown",
   "id": "c17cda0e-f46c-44a8-b355-30a6f80ae3f5",
   "metadata": {},
   "source": [
    "Next, we combine them using `LayeredUniaxial` and check its parameters. We notice that all the parameters for the first \"layer\" have `_layer0` appended to their names, and those for second layer have `_layer1` appended, etc."
   ]
  },
  {
   "cell_type": "code",
   "execution_count": 3,
   "id": "0f67cd5d-9614-4432-92be-c72b859004a3",
   "metadata": {},
   "outputs": [
    {
     "name": "stdout",
     "output_type": "stream",
     "text": [
      "------------------------------------------------------------------\n",
      "Keys              Value       Fixed?      Lower bound Upper bound \n",
      "------------------------------------------------------------------\n",
      "L0_layer0         20.00       No          1.00e-04    1.00e+03    \n",
      "A0_layer0         1.00        No          1.00e-04    1.00e+03    \n",
      "mu_0_layer0       22.57       No          1.00e-04    1.00e+02    \n",
      "k1_1_layer0       2.76e+02    No          0.10        30.00       \n",
      "k2_1_layer0       42.85       No          0.10        30.00       \n",
      "k3_1_layer0       0.25        No          0.00        0.33        \n",
      "L0_layer1         22.00       No          1.00e-04    1.00e+03    \n",
      "A0_layer1         1.00        No          1.00e-04    1.00e+03    \n",
      "mu_0_layer1       14.30       No          1.00e-04    1.00e+02    \n",
      "k1_1_layer1       2.90e+02    No          0.10        30.00       \n",
      "k2_1_layer1       4.87        No          0.10        30.00       \n",
      "k3_1_layer1       0.22        No          0.00        0.33        \n",
      "------------------------------------------------------------------\n",
      "\n"
     ]
    }
   ],
   "source": [
    "combined = pmt.LayeredUniaxial(strip_1,strip_2)\n",
    "print(combined.parameters)"
   ]
  },
  {
   "cell_type": "markdown",
   "id": "b9c6b8a2-557f-46ca-9d6d-d30415a56630",
   "metadata": {},
   "source": [
    "We impose a deformed length varying between 20 and 25 and calculate and plot the resulting force."
   ]
  },
  {
   "cell_type": "code",
   "execution_count": 4,
   "id": "d4f69603-d0d5-4816-97d9-4d6d004678dc",
   "metadata": {},
   "outputs": [
    {
     "data": {
      "image/png": "[encoded data removed]",
      "text/plain": [
       "<Figure size 201.6x151.2 with 1 Axes>"
      ]
     },
     "metadata": {
      "needs_background": "light"
     },
     "output_type": "display_data"
    }
   ],
   "source": [
    "def_length = np.linspace(20,25,30)\n",
    "force = combined.disp_controlled(def_length)\n",
    "\n",
    "fig,ax = plt.subplots(1,1,figsize=(4*0.7,3*0.7))\n",
    "ax.plot(def_length,force,'-o')\n",
    "ax.set_xlabel('Deformed length')\n",
    "ax.set_ylabel('Applied force')\n",
    "plt.show()"
   ]
  },
  {
   "cell_type": "markdown",
   "id": "1dd6ec6d-06b8-4e45-8f08-65e2990e86cc",
   "metadata": {},
   "source": [
    "Moreover, we calculate the \"free\" length of the layered structure by applied a zero force and find that it is somewhere between the lengths of the two layers. "
   ]
  },
  {
   "cell_type": "code",
   "execution_count": 5,
   "id": "fd019bad-7ffb-4562-ab5f-0ef36995bca5",
   "metadata": {},
   "outputs": [
    {
     "name": "stdout",
     "output_type": "stream",
     "text": [
      "Length without applied force is 20.43300896426766\n"
     ]
    }
   ],
   "source": [
    "free_length = combined.force_controlled(0,x0=20)\n",
    "print('Length without applied force is', free_length)"
   ]
  },
  {
   "cell_type": "markdown",
   "id": "e643c92c-af67-4028-b2ef-d1ea63f54ed6",
   "metadata": {},
   "source": [
    "## Required `disp_measure` and `force_measure`"
   ]
  },
  {
   "cell_type": "markdown",
   "id": "2e4b5d0b-7301-468a-8aff-f405cf390607",
   "metadata": {},
   "source": [
    "For the `LayeredUniaxial` to work correctly, we need the component layers to have lengths as their `disp_measure` and force as their `force_measure`. Lengths are required to remove ambiguity about what is the stretch/strain etc. is with respect to (i.e., is it the length of the first layer or the second layer?). The force is required, since the forces generated by the component layers will add up, while stresses do not.\n",
    "\n",
    "If we do not follow these rules, errors will be raised as shown below."
   ]
  },
  {
   "cell_type": "code",
   "execution_count": 6,
   "id": "4d567e78-7d89-4c06-9e34-b89e45c2b988",
   "metadata": {},
   "outputs": [
    {
     "name": "stdout",
     "output_type": "stream",
     "text": [
      "ValueError raised: The input of all layers in LayeredUniaxial should be length to remove ambiguity about the reference length\n",
      "ValueError raised: The output of the LayeredUniaxial should be force, as stresses are not additive. The results may be spurious\n"
     ]
    }
   ],
   "source": [
    "try:\n",
    "    strip_1 = pmt.UniaxialExtension(mat1, disp_measure='stretch', force_measure='force')\n",
    "    strip_2 = pmt.UniaxialExtension(mat2, disp_measure='stretch', force_measure='force')\n",
    "    combined = pmt.LayeredUniaxial(strip_1,strip_2)\n",
    "except ValueError as e:\n",
    "    print(\"ValueError raised:\", e)\n",
    "\n",
    "try:\n",
    "    strip_1 = pmt.UniaxialExtension(mat1, disp_measure='length', force_measure='cauchy')\n",
    "    strip_2 = pmt.UniaxialExtension(mat2, disp_measure='length', force_measure='cauchy')\n",
    "    combined = pmt.LayeredUniaxial(strip_1,strip_2)\n",
    "except ValueError as e:\n",
    "    print(\"ValueError raised:\", e)"
   ]
  }
 ],
 "metadata": {
  "kernelspec": {
   "display_name": "Python 3 (ipykernel)",
   "language": "python",
   "name": "python3"
  },
  "language_info": {
   "codemirror_mode": {
    "name": "ipython",
    "version": 3
   },
   "file_extension": ".py",
   "mimetype": "text/x-python",
   "name": "python",
   "nbconvert_exporter": "python",
   "pygments_lexer": "ipython3",
   "version": "3.9.16"
  }
 },
 "nbformat": 4,
 "nbformat_minor": 5
}
