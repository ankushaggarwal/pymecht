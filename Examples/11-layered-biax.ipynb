{
 "cells": [
  {
   "cell_type": "markdown",
   "id": "51921015-2e7e-4962-90c5-690d5ac32e95",
   "metadata": {},
   "source": [
    "# Using LayeredPlanarBiaxial"
   ]
  },
  {
   "cell_type": "code",
   "execution_count": 1,
   "id": "5aff7647-57d6-4a57-a774-4e2fe6aef982",
   "metadata": {},
   "outputs": [],
   "source": [
    "import pymecht as pmt\n",
    "from matplotlib import pyplot as plt\n",
    "import numpy as np"
   ]
  },
  {
   "cell_type": "markdown",
   "id": "8c769b23-12b6-416e-85d7-3cf4aa950b04",
   "metadata": {},
   "source": [
    "We start by creating two `PlanarBiaxialExtension` samples with different material properties and different **reference length**. We also set the fiber directions for the two layers differently."
   ]
  },
  {
   "cell_type": "code",
   "execution_count": 2,
   "id": "2c74b2ec-9e52-40b8-b1cb-c491c67245ad",
   "metadata": {},
   "outputs": [
    {
     "name": "stdout",
     "output_type": "stream",
     "text": [
      "Fiber directions set to  45  degrees ( 0.7853981633974483  radians)\n",
      "Fiber directions set to  30  degrees ( 0.5235987755982988  radians)\n"
     ]
    }
   ],
   "source": [
    "mat1 = pmt.MatModel('nh','goh')\n",
    "strip_1 = pmt.PlanarBiaxialExtension(mat1,disp_measure='length', force_measure='force')\n",
    "pmt.specify_two_fibers(strip_1,45)\n",
    "params = strip_1.parameters\n",
    "params.set('mu_0',22.57)\n",
    "params.set('k1_1',276.45)\n",
    "params.set('k2_1',42.85)\n",
    "params.set('k3_1',0.246)\n",
    "params.set('L10',20)\n",
    "params.set('L20',21)\n",
    "strip_1.parameters = params\n",
    "\n",
    "mat2 = pmt.MatModel('nh','goh')\n",
    "strip_2 = pmt.PlanarBiaxialExtension(mat2,disp_measure='length', force_measure='force')\n",
    "pmt.specify_two_fibers(strip_2,30)\n",
    "params = strip_2.parameters\n",
    "params.set('mu_0',14.30)\n",
    "params.set('k1_1',290.22)\n",
    "params.set('k2_1',4.87)\n",
    "params.set('k3_1',0.224)\n",
    "params.set('L10',22)\n",
    "params.set('L20',22)\n",
    "strip_2.parameters = params"
   ]
  },
  {
   "cell_type": "markdown",
   "id": "36c8b865-6c91-440e-ab2e-dca81a0bf847",
   "metadata": {},
   "source": [
    "Next, we combine them using `LayeredPlanarBiaxial` and check its parameters. We notice that all the parameters for the first \"layer\" have `_layer0` appended to their names, and those for second layer have `_layer1` appended, etc."
   ]
  },
  {
   "cell_type": "code",
   "execution_count": 3,
   "id": "c37962ff-4ac3-432e-b8fb-b48c0ba70e15",
   "metadata": {},
   "outputs": [
    {
     "name": "stdout",
     "output_type": "stream",
     "text": [
      "------------------------------------------------------------------\n",
      "Keys              Value       Fixed?      Lower bound Upper bound \n",
      "------------------------------------------------------------------\n",
      "L10_layer0        20.00       No          1.00e-04    1.00e+03    \n",
      "L20_layer0        21.00       No          1.00e-04    1.00e+03    \n",
      "thick_layer0      1.00        No          1.00e-04    1.00e+03    \n",
      "mu_0_layer0       22.57       No          1.00e-04    1.00e+02    \n",
      "k1_1_layer0       2.76e+02    No          0.10        30.00       \n",
      "k2_1_layer0       42.85       No          0.10        30.00       \n",
      "k3_1_layer0       0.25        No          0.00        0.33        \n",
      "L10_layer1        22.00       No          1.00e-04    1.00e+03    \n",
      "L20_layer1        22.00       No          1.00e-04    1.00e+03    \n",
      "thick_layer1      1.00        No          1.00e-04    1.00e+03    \n",
      "mu_0_layer1       14.30       No          1.00e-04    1.00e+02    \n",
      "k1_1_layer1       2.90e+02    No          0.10        30.00       \n",
      "k2_1_layer1       4.87        No          0.10        30.00       \n",
      "k3_1_layer1       0.22        No          0.00        0.33        \n",
      "------------------------------------------------------------------\n",
      "\n"
     ]
    }
   ],
   "source": [
    "combined = pmt.LayeredPlanarBiaxial(strip_1,strip_2)\n",
    "print(combined.parameters)"
   ]
  },
  {
   "cell_type": "markdown",
   "id": "ed0569db-936a-4e84-8293-87a079e4daf2",
   "metadata": {},
   "source": [
    "We impose a deformed length varying between 20 and 25 and calculate and plot the resulting forces along the two axes."
   ]
  },
  {
   "cell_type": "code",
   "execution_count": 4,
   "id": "e7c8a6e1-65c4-4239-9f62-fb1abd30036a",
   "metadata": {},
   "outputs": [
    {
     "data": {
      "image/png": "[encoded data removed]",
      "text/plain": [
       "<Figure size 201.6x151.2 with 1 Axes>"
      ]
     },
     "metadata": {
      "needs_background": "light"
     },
     "output_type": "display_data"
    }
   ],
   "source": [
    "def_length1 = np.linspace(20,25,30)\n",
    "def_length2 = np.linspace(20,25,30)\n",
    "def_length = np.vstack((def_length1,def_length2)).T\n",
    "force = combined.disp_controlled(def_length)\n",
    "\n",
    "fig,ax = plt.subplots(1,1,figsize=(4*0.7,3*0.7))\n",
    "ax.plot(def_length[:,0],force[:,0],'-o',color='r',label='x')\n",
    "ax.plot(def_length[:,1],force[:,1],'-o',color='b',label='y')\n",
    "ax.set_xlabel('Deformed length')\n",
    "ax.set_ylabel('Applied force')\n",
    "plt.show()"
   ]
  },
  {
   "cell_type": "markdown",
   "id": "caff3802-3988-4dd6-801e-10ba2cf945fd",
   "metadata": {},
   "source": [
    "Moreover, we calculate the \"free\" length of the layered structure by applied a zero force and find that it is somewhere between the lengths of the two layers. "
   ]
  },
  {
   "cell_type": "code",
   "execution_count": 5,
   "id": "3bfc55fd-50be-46d1-8e44-91324a80dd72",
   "metadata": {},
   "outputs": [
    {
     "name": "stdout",
     "output_type": "stream",
     "text": [
      "Length without applied force is [20.59713974 21.27247465]\n"
     ]
    }
   ],
   "source": [
    "zero_force_length = combined.force_controlled(np.array([0,0]),x0=np.array([21,21]))\n",
    "print('Length without applied force is', zero_force_length)"
   ]
  },
  {
   "cell_type": "markdown",
   "id": "e95f20d3-d9f7-4903-94a0-0caa824f9246",
   "metadata": {},
   "source": [
    "We can calculate the force contributions from two layers at this equilibrium, which do cancel out."
   ]
  },
  {
   "cell_type": "code",
   "execution_count": 6,
   "id": "557688d9-a582-438f-b7d3-73bd81efc6be",
   "metadata": {},
   "outputs": [
    {
     "name": "stdout",
     "output_type": "stream",
     "text": [
      "[115.49063081  92.81617322]\n",
      "[-115.49063081  -92.81617322]\n"
     ]
    }
   ],
   "source": [
    "print(strip_1.disp_controlled(zero_force_length))\n",
    "print(strip_2.disp_controlled(zero_force_length))"
   ]
  },
  {
   "cell_type": "markdown",
   "id": "572225bf-ad1d-4e74-a71f-8f94e5e99330",
   "metadata": {},
   "source": [
    "## Required `disp_measure` and `force_measure`"
   ]
  },
  {
   "cell_type": "markdown",
   "id": "a6626439-3d38-4b1e-9b58-ed61b28d869c",
   "metadata": {},
   "source": [
    "For the `LayeredPlanarBiaxial` to work correctly, we need the component layers to have lengths as their `disp_measure` and force as their `force_measure`. Lengths are required to remove ambiguity about what is the stretch/strain etc. is with respect to (i.e., is it the length of the first layer or the second layer?). The force is required, since the forces generated by the component layers will add up, while stresses do not.\n",
    "\n",
    "If we do not follow these rules, errors will be raised as shown below."
   ]
  },
  {
   "cell_type": "code",
   "execution_count": 7,
   "id": "d38c81d0-ec27-4ebc-a03c-02cfd21d0b4d",
   "metadata": {},
   "outputs": [
    {
     "name": "stdout",
     "output_type": "stream",
     "text": [
      "ValueError raised: The input of all layers in LayeredPlanarBiaxial should be length to remove ambiguity about the reference length\n",
      "ValueError raised: The output of the LayeredPlanarBiaxial should be force, as stresses are not additive. The results may be spurious\n"
     ]
    }
   ],
   "source": [
    "try:\n",
    "    strip_1 = pmt.PlanarBiaxialExtension(mat1, disp_measure='stretch', force_measure='force')\n",
    "    strip_2 = pmt.PlanarBiaxialExtension(mat2, disp_measure='stretch', force_measure='force')\n",
    "    combined = pmt.LayeredPlanarBiaxial(strip_1,strip_2)\n",
    "except ValueError as e:\n",
    "    print(\"ValueError raised:\", e)\n",
    "\n",
    "try:\n",
    "    strip_1 = pmt.PlanarBiaxialExtension(mat1, disp_measure='length', force_measure='cauchy')\n",
    "    strip_2 = pmt.PlanarBiaxialExtension(mat2, disp_measure='length', force_measure='cauchy')\n",
    "    combined = pmt.LayeredPlanarBiaxial(strip_1,strip_2)\n",
    "except ValueError as e:\n",
    "    print(\"ValueError raised:\", e)"
   ]
  }
 ],
 "metadata": {
  "kernelspec": {
   "display_name": "Python 3 (ipykernel)",
   "language": "python",
   "name": "python3"
  },
  "language_info": {
   "codemirror_mode": {
    "name": "ipython",
    "version": 3
   },
   "file_extension": ".py",
   "mimetype": "text/x-python",
   "name": "python",
   "nbconvert_exporter": "python",
   "pygments_lexer": "ipython3",
   "version": "3.9.16"
  }
 },
 "nbformat": 4,
 "nbformat_minor": 5
}
