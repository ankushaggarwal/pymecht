{
 "cells": [
  {
   "cell_type": "markdown",
   "id": "ad954d5f-faff-45be-9291-d7875b453349",
   "metadata": {},
   "source": [
    "# Simulate balloon angioplasty of a coronary artery "
   ]
  },
  {
   "cell_type": "code",
   "execution_count": 1,
   "id": "3da803f6-96cb-4c5f-b926-a06f4700c8b4",
   "metadata": {},
   "outputs": [],
   "source": [
    "import pymecht as pmt\n",
    "from matplotlib import pyplot as plt\n",
    "import numpy as np"
   ]
  },
  {
   "cell_type": "markdown",
   "id": "eb7cf411-e727-4d66-b876-73b17ff2b829",
   "metadata": {},
   "source": [
    "Balloon angioplasty is a procedure wherein a balloon is used to inflate an artery. If we assume that both artery and balloon are perfect cylinders, the procedure can be simulated using pymecht using a `LayeredTube`. Thus, we start by creating artery and balloon separately (both made of single layer) of neo-Hookean material. The parameters of artery and balloon are different -- both material and geometric."
   ]
  },
  {
   "cell_type": "code",
   "execution_count": 2,
   "id": "6df3c335-fd14-4f97-8073-4ea00675f8a2",
   "metadata": {},
   "outputs": [
    {
     "name": "stdout",
     "output_type": "stream",
     "text": [
      "An object of type TubeInflationwith radius as input, pressure as output, and the following material\n",
      "Material model with 1 component:\n",
      "Component1: NH\n",
      " An object of type TubeInflationwith radius as input, pressure as output, and the following material\n",
      "Material model with 1 component:\n",
      "Component1: NH\n",
      "\n",
      "------------------------------------------------------------------\n",
      "Keys              Value       Fixed?      Lower bound Upper bound \n",
      "------------------------------------------------------------------\n",
      "Ri                1.50        No          0.50        1.50        \n",
      "thick             1.00        No          0.00        1.00        \n",
      "omega             0.00        No          0.00        0.00        \n",
      "L0                1.00        No          1.00        1.00        \n",
      "lambdaZ           1.00        No          1.00        1.00        \n",
      "mu_0              0.23        No          1.00e-04    1.00e+02    \n",
      "------------------------------------------------------------------\n",
      " ------------------------------------------------------------------\n",
      "Keys              Value       Fixed?      Lower bound Upper bound \n",
      "------------------------------------------------------------------\n",
      "Ri                0.58        No          0.50        1.50        \n",
      "thick             0.10        No          0.00        1.00        \n",
      "omega             0.00        No          0.00        0.00        \n",
      "L0                1.00        No          1.00        1.00        \n",
      "lambdaZ           1.00        No          1.00        1.00        \n",
      "mu_0              1.72        No          1.00e-04    1.00e+02    \n",
      "------------------------------------------------------------------\n",
      "\n"
     ]
    }
   ],
   "source": [
    "artery_mat = pmt.MatModel('nh')\n",
    "balloon_mat = pmt.MatModel('nh')\n",
    "artery = pmt.TubeInflation(artery_mat,force_measure='pressure')\n",
    "balloon = pmt.TubeInflation(balloon_mat,force_measure='pressure')\n",
    "print(artery,balloon)\n",
    "artery_params = artery.parameters\n",
    "balloon_params = balloon.parameters\n",
    "artery_params.set('Ri',1.5)\n",
    "artery_params.set('thick',1)\n",
    "balloon_params.set('Ri',0.58)\n",
    "balloon_params.set('thick',0.1)\n",
    "artery_params.set('mu_0',0.227)\n",
    "balloon_params.set('mu_0',1.72)\n",
    "print(artery_params,balloon_params)"
   ]
  },
  {
   "cell_type": "markdown",
   "id": "d14249fe-8cca-436a-98a8-26f5fb0acbb2",
   "metadata": {},
   "source": [
    "Next, we combine them into a `LayeredTube` with balloon on the inside and artery on the outside."
   ]
  },
  {
   "cell_type": "code",
   "execution_count": 3,
   "id": "5f37d484-ec9b-4f76-9373-a1e6558843f8",
   "metadata": {},
   "outputs": [
    {
     "name": "stdout",
     "output_type": "stream",
     "text": [
      "An object of type LayeredTubewith 2 layers:\n",
      "Layer1: An object of type TubeInflationwith radius as input, pressure as output, and the following material\n",
      "Material model with 1 component:\n",
      "Component1: NH\n",
      "Layer2: An object of type TubeInflationwith radius as input, pressure as output, and the following material\n",
      "Material model with 1 component:\n",
      "Component1: NH\n",
      " ------------------------------------------------------------------\n",
      "Keys              Value       Fixed?      Lower bound Upper bound \n",
      "------------------------------------------------------------------\n",
      "Ri_layer0         0.58        No          0.50        1.50        \n",
      "thick_layer0      0.10        No          0.00        1.00        \n",
      "omega_layer0      0.00        No          0.00        0.00        \n",
      "L0_layer0         1.00        No          1.00        1.00        \n",
      "lambdaZ_layer0    1.00        No          1.00        1.00        \n",
      "mu_0_layer0       1.72        No          1.00e-04    1.00e+02    \n",
      "Ri_layer1         1.50        No          0.50        1.50        \n",
      "thick_layer1      1.00        No          0.00        1.00        \n",
      "omega_layer1      0.00        No          0.00        0.00        \n",
      "L0_layer1         1.00        No          1.00        1.00        \n",
      "lambdaZ_layer1    1.00        No          1.00        1.00        \n",
      "mu_0_layer1       0.23        No          1.00e-04    1.00e+02    \n",
      "------------------------------------------------------------------\n",
      "\n"
     ]
    }
   ],
   "source": [
    "combined = pmt.LayeredTube(balloon,artery)\n",
    "combined_params = combined.parameters\n",
    "print(combined,combined_params)"
   ]
  },
  {
   "cell_type": "markdown",
   "id": "fb1961de-a98f-40ea-83e2-c19cbe77d705",
   "metadata": {},
   "source": [
    "In order to simulate their interaction, one consideration is to define when they are in contact (i.e., they bear the load together) and when they are not. For this, we have to calculate the outer radius of the balloon and see if it lower than the reference inner radius of the artery. If yes, then the balloon and artery are separate and only balloon bears the applied pressure, otherwise they are in contact and must be simulated together. Thus, we vary the balloon radius over a range and keep track of whether they are in contact or not by using the `outer_radius` method."
   ]
  },
  {
   "cell_type": "code",
   "execution_count": 4,
   "id": "271d1f42-de8e-46e3-a261-2685857c34ef",
   "metadata": {},
   "outputs": [],
   "source": [
    "r_balloon = np.linspace(0.58,2,100)\n",
    "p_all = []\n",
    "contact = []\n",
    "r_all = []\n",
    "p_art = []\n",
    "for ri in r_balloon:\n",
    "    rio = balloon.outer_radius([ri],balloon_params)[0]\n",
    "    r_all.append(rio)\n",
    "    if rio >= artery_params['Ri'].value:\n",
    "        contact.append(True)\n",
    "        p_all.append(combined.disp_controlled([ri])[0])\n",
    "        p_art.append(artery.disp_controlled([rio])[0])\n",
    "    else:\n",
    "        contact.append(False)\n",
    "        p_all.append(balloon.disp_controlled([ri])[0])\n",
    "        "
   ]
  },
  {
   "cell_type": "markdown",
   "id": "cdb9807f-2706-4aa0-8a2a-672cfeec6f7f",
   "metadata": {},
   "source": [
    "Lastly, we plot the results separating the points when the two are in contact from the points when they are not. Contact pressure is simply the pressure supported by the artery (i.e., the blue curve in the plot below)."
   ]
  },
  {
   "cell_type": "code",
   "execution_count": 5,
   "id": "897ebd39-24ce-4b91-9043-20b21109a790",
   "metadata": {},
   "outputs": [
    {
     "data": {
      "image/png": "[encoded data removed]",
      "text/plain": [
       "<Figure size 288x216 with 1 Axes>"
      ]
     },
     "metadata": {
      "needs_background": "light"
     },
     "output_type": "display_data"
    }
   ],
   "source": [
    "p_all = np.array(p_all)\n",
    "p_art = np.array(p_art)\n",
    "r_all = np.array(r_all)\n",
    "contact = np.array(contact)\n",
    "fig,ax = plt.subplots(1,1,figsize=(4,3))\n",
    "\n",
    "ax.plot(r_all[~contact],p_all[~contact],'--r',label='Balloon only')\n",
    "ax.plot(r_all[contact],p_art,'-.b',label='Artery only')\n",
    "ax.plot(r_all[contact],p_all[contact],'-k',label='In contact')\n",
    "ax.set_xlabel('Radius')\n",
    "ax.set_ylabel('Pressure (kPa)')\n",
    "plt.legend()\n",
    "plt.show()"
   ]
  }
 ],
 "metadata": {
  "kernelspec": {
   "display_name": "Python 3 (ipykernel)",
   "language": "python",
   "name": "python3"
  },
  "language_info": {
   "codemirror_mode": {
    "name": "ipython",
    "version": 3
   },
   "file_extension": ".py",
   "mimetype": "text/x-python",
   "name": "python",
   "nbconvert_exporter": "python",
   "pygments_lexer": "ipython3",
   "version": "3.9.16"
  }
 },
 "nbformat": 4,
 "nbformat_minor": 5
}
