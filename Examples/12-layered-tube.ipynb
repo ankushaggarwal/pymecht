{
 "cells": [
  {
   "cell_type": "markdown",
   "id": "958f0ccc-707d-483c-acde-858f8d91bc41",
   "metadata": {},
   "source": [
    "# Simulating inflation of a three-layered artery"
   ]
  },
  {
   "cell_type": "code",
   "execution_count": 1,
   "id": "b305492c-cd9d-4d70-a5f4-e191e7d5b826",
   "metadata": {},
   "outputs": [],
   "source": [
    "import pymecht as pmt\n",
    "from matplotlib import pyplot as plt\n",
    "import numpy as np"
   ]
  },
  {
   "cell_type": "markdown",
   "id": "8fa2632e-9962-4cc0-aa18-3e2ed76f2782",
   "metadata": {},
   "source": [
    "## Creating three separate layers"
   ]
  },
  {
   "cell_type": "markdown",
   "id": "24724252-d94d-4a0b-8bf9-3b36e7906311",
   "metadata": {},
   "source": [
    "It is well-documented that arteries are made up of three layers: intima, media, and adventitia. These layers have distinct material properties with different fiber directions.  So, we start by creating materials for three layers with defined material parameters (taken from https://doi.org/10.1016/j.jmbbm.2020.104070) and defining the three fiber angles."
   ]
  },
  {
   "cell_type": "code",
   "execution_count": 2,
   "id": "a0c947a5-bcb8-4daf-aeb5-ecfcab3a37ab",
   "metadata": {},
   "outputs": [],
   "source": [
    "intima = pmt.MatModel('nh','goh')\n",
    "media = pmt.MatModel('nh','goh')\n",
    "adventitia = pmt.MatModel('nh','goh')\n",
    "\n",
    "theta1 = 42.85 #degrees\n",
    "theta2 = 35.01 #degrees\n",
    "theta3 = 42.78 #degrees\n",
    "\n",
    "params = intima.parameters\n",
    "params['mu_0'].set(22.57)\n",
    "params['k1_1'].set(276.45)\n",
    "params['k2_1'].set(42.85)\n",
    "params['k3_1'].set(0.246)\n",
    "intima.parameters = params\n",
    "\n",
    "params = media.parameters\n",
    "params['mu_0'].set(14.30)\n",
    "params['k1_1'].set(290.22)\n",
    "params['k2_1'].set(4.87)\n",
    "params['k3_1'].set(0.224)\n",
    "media.parameters = params\n",
    "\n",
    "params = adventitia.parameters\n",
    "params['mu_0'].set(1.61)\n",
    "params['k1_1'].set(278.86)\n",
    "params['k2_1'].set(87.62)\n",
    "params['k3_1'].set(0.275)\n",
    "adventitia.parameters = params\n"
   ]
  },
  {
   "cell_type": "markdown",
   "id": "8ffb2395-0af2-4f1a-9949-e73d0b6bb334",
   "metadata": {},
   "source": [
    "Next, we create a tube for the intima using the intima material and specify the fiber angles."
   ]
  },
  {
   "cell_type": "code",
   "execution_count": 3,
   "id": "d1caae25-0520-4caa-a01e-2615b8f9c6b6",
   "metadata": {},
   "outputs": [
    {
     "name": "stdout",
     "output_type": "stream",
     "text": [
      "Fiber directions set to  42.85  degrees ( 0.7478735844795702  radians)\n",
      "------------------------------------------------------------------\n",
      "Keys              Value       Fixed?      Lower bound Upper bound \n",
      "------------------------------------------------------------------\n",
      "Ri                1.00        No          0.50        1.50        \n",
      "thick             0.10        No          0.00        1.00        \n",
      "omega             0.00        No          0.00        0.00        \n",
      "L0                1.00        No          1.00        1.00        \n",
      "lambdaZ           1.00        No          1.00        1.00        \n",
      "mu_0              22.57       No          1.00e-04    1.00e+02    \n",
      "k1_1              2.76e+02    No          0.10        30.00       \n",
      "k2_1              42.85       No          0.10        30.00       \n",
      "k3_1              0.25        No          0.00        0.33        \n",
      "------------------------------------------------------------------\n",
      "\n"
     ]
    }
   ],
   "source": [
    "tube1 = pmt.TubeInflation(intima,disp_measure='radius',force_measure='pressure')\n",
    "pmt.specify_two_fibers(tube1,angle=theta1,degrees=True)\n",
    "params_tube1 = tube1.parameters\n",
    "print(params_tube1)"
   ]
  },
  {
   "cell_type": "markdown",
   "id": "66365501-f10c-4a86-815e-c9b402ad7412",
   "metadata": {},
   "source": [
    "The default geometric values (radius, thickness, and opening angle) need to be changed to the actual ones. Length and longitudinal stretch are kept as default. The reference (open) radius is calculated from the closed radius and the opening angle (which is assumed to be 90 degrees). Lastly, we calculate the radius at pressures of 0, 10 and 15 (load-free, diastolic, and systolic). However, this is only intima on its own. Of more interest is when the three layers will be put together."
   ]
  },
  {
   "cell_type": "code",
   "execution_count": 4,
   "id": "468152ac-ab7c-4f20-b946-2f6750c7af97",
   "metadata": {},
   "outputs": [
    {
     "data": {
      "text/plain": [
       "array([5.95889748, 7.7276288 , 7.89064538])"
      ]
     },
     "execution_count": 4,
     "metadata": {},
     "output_type": "execute_result"
    }
   ],
   "source": [
    "ri0 = 6\n",
    "omega = np.pi/2.\n",
    "params_tube1.set('omega',omega)\n",
    "params_tube1.set('Ri',ri0*2*np.pi/(2*np.pi-omega))\n",
    "params_tube1.set('thick',0.3)\n",
    "tube1.force_controlled(0,params_tube1,x0=6)\n",
    "tube1.force_controlled(np.array([0,10,15]),params_tube1,x0=6)"
   ]
  },
  {
   "cell_type": "code",
   "execution_count": 5,
   "id": "b8aed386-2765-40b9-b9b0-b077507a1842",
   "metadata": {},
   "outputs": [
    {
     "data": {
      "text/plain": [
       "------------------------------------------------------------------\n",
       "Keys              Value       Fixed?      Lower bound Upper bound \n",
       "------------------------------------------------------------------\n",
       "Ri                8.00        No          0.50        1.50        \n",
       "thick             0.30        No          0.00        1.00        \n",
       "omega             1.57        No          0.00        0.00        \n",
       "L0                1.00        No          1.00        1.00        \n",
       "lambdaZ           1.00        No          1.00        1.00        \n",
       "mu_0              22.57       No          1.00e-04    1.00e+02    \n",
       "k1_1              2.76e+02    No          0.10        30.00       \n",
       "k2_1              42.85       No          0.10        30.00       \n",
       "k3_1              0.25        No          0.00        0.33        \n",
       "------------------------------------------------------------------"
      ]
     },
     "execution_count": 5,
     "metadata": {},
     "output_type": "execute_result"
    }
   ],
   "source": [
    "tube1.parameters"
   ]
  },
  {
   "cell_type": "markdown",
   "id": "3567599b-7958-42ca-b0a9-91bdbb2b8d1c",
   "metadata": {},
   "source": [
    "Similarly, we create the tube for media. The radius and opening angle are assumed to be the same, but the thickness is higher than intima."
   ]
  },
  {
   "cell_type": "code",
   "execution_count": 6,
   "id": "dba67e9d-d731-49c5-a30a-32e2b51655d2",
   "metadata": {},
   "outputs": [
    {
     "name": "stdout",
     "output_type": "stream",
     "text": [
      "Fiber directions set to  35.01  degrees ( 0.6110397711232147  radians)\n"
     ]
    },
    {
     "data": {
      "text/plain": [
       "------------------------------------------------------------------\n",
       "Keys              Value       Fixed?      Lower bound Upper bound \n",
       "------------------------------------------------------------------\n",
       "Ri                8.00        No          0.50        1.50        \n",
       "thick             0.54        No          0.00        1.00        \n",
       "omega             1.57        No          0.00        0.00        \n",
       "L0                1.00        No          1.00        1.00        \n",
       "lambdaZ           1.00        No          1.00        1.00        \n",
       "mu_0              14.30       No          1.00e-04    1.00e+02    \n",
       "k1_1              2.90e+02    No          0.10        30.00       \n",
       "k2_1              4.87        No          0.10        30.00       \n",
       "k3_1              0.22        No          0.00        0.33        \n",
       "------------------------------------------------------------------"
      ]
     },
     "execution_count": 6,
     "metadata": {},
     "output_type": "execute_result"
    }
   ],
   "source": [
    "tube2 = pmt.TubeInflation(media,disp_measure='radius',force_measure='pressure')\n",
    "pmt.specify_two_fibers(tube2,angle=theta2,degrees=True)\n",
    "params_tube2 = tube2.parameters\n",
    "ri0 = 6\n",
    "omega = np.pi/2.\n",
    "params_tube2.set('omega',omega)\n",
    "params_tube2.set('Ri',ri0*2*np.pi/(2*np.pi-omega))\n",
    "params_tube2.set('thick',0.54)\n",
    "tube2.parameters"
   ]
  },
  {
   "cell_type": "markdown",
   "id": "28f78af3-1b88-4388-9ca5-988868119493",
   "metadata": {},
   "source": [
    "Again, we can calculate the radius at the three pressures if the adventitia was on its own. Note that since the `disp_measure` is radius, which will expect to take at a value of around 6 at zero pressure, we specify the initial guess to be 6 to speed up (and ensure) the convergence. Otherwise, a default initial guess of 1 will be used, which might be too far to converge."
   ]
  },
  {
   "cell_type": "code",
   "execution_count": 7,
   "id": "2fa313cc-8911-4fc4-a033-108dca63d561",
   "metadata": {},
   "outputs": [
    {
     "data": {
      "text/plain": [
       "[array([5.95729122]), array([7.52927162]), array([7.6840413])]"
      ]
     },
     "execution_count": 7,
     "metadata": {},
     "output_type": "execute_result"
    }
   ],
   "source": [
    "tube2.force_controlled([0,10,15],params_tube1,x0=6)"
   ]
  },
  {
   "cell_type": "markdown",
   "id": "99bec8a9-0ebb-4fd3-94a1-169ff056e778",
   "metadata": {},
   "source": [
    "Lastly, we create a tube of the adventitia, assuming the radius and opening angle to be the same."
   ]
  },
  {
   "cell_type": "code",
   "execution_count": 9,
   "id": "1baec665-03c1-4ae2-a8b8-ed29d942aac2",
   "metadata": {},
   "outputs": [
    {
     "name": "stdout",
     "output_type": "stream",
     "text": [
      "Fiber directions set to  42.78  degrees ( 0.7466518540031742  radians)\n"
     ]
    },
    {
     "data": {
      "text/plain": [
       "------------------------------------------------------------------\n",
       "Keys              Value       Fixed?      Lower bound Upper bound \n",
       "------------------------------------------------------------------\n",
       "Ri                8.00        No          0.50        1.50        \n",
       "thick             0.16        No          0.00        1.00        \n",
       "omega             1.57        No          0.00        0.00        \n",
       "L0                1.00        No          1.00        1.00        \n",
       "lambdaZ           1.00        No          1.00        1.00        \n",
       "mu_0              1.61        No          1.00e-04    1.00e+02    \n",
       "k1_1              2.79e+02    No          0.10        30.00       \n",
       "k2_1              87.62       No          0.10        30.00       \n",
       "k3_1              0.28        No          0.00        0.33        \n",
       "------------------------------------------------------------------"
      ]
     },
     "execution_count": 9,
     "metadata": {},
     "output_type": "execute_result"
    }
   ],
   "source": [
    "tube3 = pmt.TubeInflation(adventitia,disp_measure='radius',force_measure='pressure')\n",
    "pmt.specify_two_fibers(tube3,angle=theta3,degrees=True)\n",
    "params_tube3 = tube3.parameters\n",
    "ri0 = 6\n",
    "omega = np.pi/2.\n",
    "params_tube3.set('omega',omega)\n",
    "params_tube3.set('Ri',ri0*2*np.pi/(2*np.pi-omega))\n",
    "params_tube3.set('thick',0.16)\n",
    "tube3.parameters"
   ]
  },
  {
   "cell_type": "markdown",
   "id": "5236a719-d176-4802-9af9-28eaf52bff39",
   "metadata": {},
   "source": [
    "## Simulating combined layers"
   ]
  },
  {
   "cell_type": "markdown",
   "id": "4a4515d7-f4cf-45aa-949e-a0d54933ea8a",
   "metadata": {},
   "source": [
    "Now, we put the three tubes into a `LayeredTube` with a simple interface to create a complete artery. When we check the parameters of the `artery` we see that it contains that of each layer with a subscript `_layer*`."
   ]
  },
  {
   "cell_type": "code",
   "execution_count": 10,
   "id": "1983320f-37d9-4f1c-9584-9d0a25bef2e2",
   "metadata": {},
   "outputs": [
    {
     "data": {
      "text/plain": [
       "------------------------------------------------------------------\n",
       "Keys              Value       Fixed?      Lower bound Upper bound \n",
       "------------------------------------------------------------------\n",
       "Ri_layer0         8.00        No          0.50        1.50        \n",
       "thick_layer0      0.30        No          0.00        1.00        \n",
       "omega_layer0      1.57        No          0.00        0.00        \n",
       "L0_layer0         1.00        No          1.00        1.00        \n",
       "lambdaZ_layer0    1.00        No          1.00        1.00        \n",
       "mu_0_layer0       22.57       No          1.00e-04    1.00e+02    \n",
       "k1_1_layer0       2.76e+02    No          0.10        30.00       \n",
       "k2_1_layer0       42.85       No          0.10        30.00       \n",
       "k3_1_layer0       0.25        No          0.00        0.33        \n",
       "Ri_layer1         8.00        No          0.50        1.50        \n",
       "thick_layer1      0.54        No          0.00        1.00        \n",
       "omega_layer1      1.57        No          0.00        0.00        \n",
       "L0_layer1         1.00        No          1.00        1.00        \n",
       "lambdaZ_layer1    1.00        No          1.00        1.00        \n",
       "mu_0_layer1       14.30       No          1.00e-04    1.00e+02    \n",
       "k1_1_layer1       2.90e+02    No          0.10        30.00       \n",
       "k2_1_layer1       4.87        No          0.10        30.00       \n",
       "k3_1_layer1       0.22        No          0.00        0.33        \n",
       "Ri_layer2         8.00        No          0.50        1.50        \n",
       "thick_layer2      0.16        No          0.00        1.00        \n",
       "omega_layer2      1.57        No          0.00        0.00        \n",
       "L0_layer2         1.00        No          1.00        1.00        \n",
       "lambdaZ_layer2    1.00        No          1.00        1.00        \n",
       "mu_0_layer2       1.61        No          1.00e-04    1.00e+02    \n",
       "k1_1_layer2       2.79e+02    No          0.10        30.00       \n",
       "k2_1_layer2       87.62       No          0.10        30.00       \n",
       "k3_1_layer2       0.28        No          0.00        0.33        \n",
       "------------------------------------------------------------------"
      ]
     },
     "execution_count": 10,
     "metadata": {},
     "output_type": "execute_result"
    }
   ],
   "source": [
    "artery = pmt.LayeredTube(tube1,tube2,tube3)\n",
    "artery.parameters"
   ]
  },
  {
   "cell_type": "markdown",
   "id": "42a8ae03-21d8-42da-a5dc-fdcc9add21b0",
   "metadata": {},
   "source": [
    "On this layered-structure, we can do the simulation just like the regular one, either with a `disp_controlled` or a `force_controlled`."
   ]
  },
  {
   "cell_type": "code",
   "execution_count": 11,
   "id": "0d57a71a-5781-4634-8622-5c5fde049e4e",
   "metadata": {},
   "outputs": [
    {
     "data": {
      "text/plain": [
       "array([5.6583947 , 6.75954302, 6.97341844])"
      ]
     },
     "execution_count": 11,
     "metadata": {},
     "output_type": "execute_result"
    }
   ],
   "source": [
    "artery.force_controlled(np.array([0,10,15]),x0=6)"
   ]
  },
  {
   "cell_type": "markdown",
   "id": "0ad5e38f-64e1-49bd-8cc2-f38e861a8bee",
   "metadata": {},
   "source": [
    "Lastly, we can calculate the Cauchy stress tensor through the thickness of the artery at a given internal radius (which is equal to the value we calculated at a pressure of 15). It returns a tuple of normalized thickness `xi` and a list of stresses `stress`."
   ]
  },
  {
   "cell_type": "code",
   "execution_count": 12,
   "id": "e0948b0f-aa34-4fb7-848a-608909a9555c",
   "metadata": {},
   "outputs": [],
   "source": [
    "xi,stress = artery.cauchy_stress(6.97341844)"
   ]
  },
  {
   "cell_type": "markdown",
   "id": "dfdfc126-a173-4a5e-a471-6196733a5650",
   "metadata": {},
   "source": [
    "To visualize the results, we calculate the von-Mises stress for each tensor in the list `stress` and then plot it. We note the jump in stress at the interface, which is because of the incompatible reference states of the three layers. Note that here the reference state of each layer is the same (same radius and opening angle), however they are still incompatible, since for compatibility, the outer radius of innermost layer should be equal to the inner radius of the next layer, and so on."
   ]
  },
  {
   "cell_type": "code",
   "execution_count": 13,
   "id": "6a75c9c0-82bd-4c06-ba80-dd8d36f93cee",
   "metadata": {},
   "outputs": [
    {
     "data": {
      "image/png": "[encoded data removed]",
      "text/plain": [
       "<Figure size 201.6x151.2 with 1 Axes>"
      ]
     },
     "metadata": {
      "needs_background": "light"
     },
     "output_type": "display_data"
    }
   ],
   "source": [
    "def von_mises(sigma_list):\n",
    "    return [np.sqrt(3./2.)*np.linalg.norm(sigma-np.trace(sigma)/3.*np.eye(3)) for sigma in sigma_list]\n",
    "\n",
    "fig,ax = plt.subplots(1,1,figsize=(4*0.7,3*0.7))\n",
    "\n",
    "ax.plot(xi,von_mises(stress),'-o')\n",
    "ax.set_xlabel('Normalized thickness')\n",
    "ax.set_ylabel('von-Mises stress (kPa)')\n",
    "plt.show()"
   ]
  }
 ],
 "metadata": {
  "kernelspec": {
   "display_name": "Python 3 (ipykernel)",
   "language": "python",
   "name": "python3"
  },
  "language_info": {
   "codemirror_mode": {
    "name": "ipython",
    "version": 3
   },
   "file_extension": ".py",
   "mimetype": "text/x-python",
   "name": "python",
   "nbconvert_exporter": "python",
   "pygments_lexer": "ipython3",
   "version": "3.9.16"
  }
 },
 "nbformat": 4,
 "nbformat_minor": 5
}
